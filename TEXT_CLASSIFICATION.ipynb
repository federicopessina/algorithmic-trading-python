{
  "nbformat": 4,
  "nbformat_minor": 0,
  "metadata": {
    "colab": {
      "name": "TEXT_CLASSIFICATION_AB (2).ipynb",
      "provenance": [],
      "collapsed_sections": [],
      "include_colab_link": true
    },
    "kernelspec": {
      "name": "python3",
      "display_name": "Python 3"
    },
    "language_info": {
      "name": "python"
    },
    "accelerator": "GPU"
  },
  "cells": [
    {
      "cell_type": "markdown",
      "metadata": {
        "id": "view-in-github",
        "colab_type": "text"
      },
      "source": [
        "<a href=\"https://colab.research.google.com/github/federicopessina/algorithmic-trading-python/blob/master/TEXT_CLASSIFICATION.ipynb\" target=\"_parent\"><img src=\"https://colab.research.google.com/assets/colab-badge.svg\" alt=\"Open In Colab\"/></a>"
      ]
    },
    {
      "cell_type": "markdown",
      "metadata": {
        "id": "It0VEd1nm_ss"
      },
      "source": [
        "# Boring stuff: setting everything up\n",
        "\n",
        "*Warning: run this section only once*"
      ]
    },
    {
      "cell_type": "markdown",
      "metadata": {
        "id": "sLdduGRqOTkt"
      },
      "source": [
        "Connect to your Google Drive so that your work does not get lost when you end your session"
      ]
    },
    {
      "cell_type": "code",
      "metadata": {
        "id": "nyDyIrpcOxAp",
        "colab": {
          "base_uri": "https://localhost:8080/"
        },
        "outputId": "78327157-045f-4974-e557-586a9c728e9c"
      },
      "source": [
        "from google.colab import drive\n",
        "drive.mount('/content/drive')"
      ],
      "execution_count": null,
      "outputs": [
        {
          "output_type": "stream",
          "text": [
            "Drive already mounted at /content/drive; to attempt to forcibly remount, call drive.mount(\"/content/drive\", force_remount=True).\n"
          ],
          "name": "stdout"
        }
      ]
    },
    {
      "cell_type": "markdown",
      "metadata": {
        "id": "GDkZGzNFO86-"
      },
      "source": [
        "Change working directory to your Google Drive"
      ]
    },
    {
      "cell_type": "code",
      "metadata": {
        "id": "5IQIWvXAnbHJ",
        "colab": {
          "base_uri": "https://localhost:8080/"
        },
        "outputId": "761541fc-6a5d-466e-8b2b-6d664ba9c554"
      },
      "source": [
        "%cd /content/drive/MyDrive/"
      ],
      "execution_count": null,
      "outputs": [
        {
          "output_type": "stream",
          "text": [
            "/content/drive/MyDrive\n"
          ],
          "name": "stdout"
        }
      ]
    },
    {
      "cell_type": "markdown",
      "metadata": {
        "id": "aKo5JuZyPAgp"
      },
      "source": [
        "Create the main directory for the laboratory inside your Google Drive"
      ]
    },
    {
      "cell_type": "code",
      "metadata": {
        "id": "k7D08GG8nOxN",
        "colab": {
          "base_uri": "https://localhost:8080/"
        },
        "outputId": "80f700f5-a2eb-46e6-cb9b-a1d5bcffb0c7"
      },
      "source": [
        "!mkdir NLP_MASTER"
      ],
      "execution_count": null,
      "outputs": [
        {
          "output_type": "stream",
          "text": [
            "mkdir: cannot create directory ‘NLP_MASTER’: File exists\n"
          ],
          "name": "stdout"
        }
      ]
    },
    {
      "cell_type": "markdown",
      "metadata": {
        "id": "AMqF_TKgPGZU"
      },
      "source": [
        "Remove unwanted directories (if it is your first run these directories do not exist and the following two commands have no effect)"
      ]
    },
    {
      "cell_type": "code",
      "metadata": {
        "id": "G3sbhSc3RnWf"
      },
      "source": [
        "!rm -rf /content/drive/MyDrive/NLP_MASTER/finance"
      ],
      "execution_count": null,
      "outputs": []
    },
    {
      "cell_type": "code",
      "metadata": {
        "id": "kM0LeaHzWIIW"
      },
      "source": [
        "!rm -rf /content/drive/MyDrive/NLP_MASTER/spacy-projects"
      ],
      "execution_count": null,
      "outputs": []
    },
    {
      "cell_type": "markdown",
      "metadata": {
        "id": "uZcJb1vxPRgU"
      },
      "source": [
        "Now let's install all the dependencies for the laboratory"
      ]
    },
    {
      "cell_type": "code",
      "metadata": {
        "id": "FjdSfytkO30n",
        "colab": {
          "base_uri": "https://localhost:8080/"
        },
        "outputId": "83245b35-de39-4420-aa23-34caab625eea"
      },
      "source": [
        "!pip install -U spacy-nightly --pre"
      ],
      "execution_count": null,
      "outputs": [
        {
          "output_type": "stream",
          "text": [
            "Collecting spacy-nightly\n",
            "  Downloading spacy_nightly-3.0.0rc5-cp37-cp37m-manylinux2014_x86_64.whl (12.7 MB)\n",
            "\u001b[K     |████████████████████████████████| 12.7 MB 177 kB/s \n",
            "\u001b[?25hRequirement already satisfied: cymem<2.1.0,>=2.0.2 in /usr/local/lib/python3.7/dist-packages (from spacy-nightly) (2.0.5)\n",
            "Requirement already satisfied: requests<3.0.0,>=2.13.0 in /usr/local/lib/python3.7/dist-packages (from spacy-nightly) (2.23.0)\n",
            "Requirement already satisfied: catalogue<2.1.0,>=2.0.1 in /usr/local/lib/python3.7/dist-packages (from spacy-nightly) (2.0.4)\n",
            "Requirement already satisfied: typer<0.4.0,>=0.3.0 in /usr/local/lib/python3.7/dist-packages (from spacy-nightly) (0.3.2)\n",
            "Requirement already satisfied: srsly<3.0.0,>=2.3.0 in /usr/local/lib/python3.7/dist-packages (from spacy-nightly) (2.4.1)\n",
            "Requirement already satisfied: wasabi<1.1.0,>=0.8.1 in /usr/local/lib/python3.7/dist-packages (from spacy-nightly) (0.8.2)\n",
            "Requirement already satisfied: thinc<8.1.0,>=8.0.0 in /usr/local/lib/python3.7/dist-packages (from spacy-nightly) (8.0.6)\n",
            "Requirement already satisfied: packaging>=20.0 in /usr/local/lib/python3.7/dist-packages (from spacy-nightly) (20.9)\n",
            "Requirement already satisfied: tqdm<5.0.0,>=4.38.0 in /usr/local/lib/python3.7/dist-packages (from spacy-nightly) (4.41.1)\n",
            "Requirement already satisfied: blis<0.8.0,>=0.4.0 in /usr/local/lib/python3.7/dist-packages (from spacy-nightly) (0.4.1)\n",
            "Requirement already satisfied: jinja2 in /usr/local/lib/python3.7/dist-packages (from spacy-nightly) (2.11.3)\n",
            "Requirement already satisfied: murmurhash<1.1.0,>=0.28.0 in /usr/local/lib/python3.7/dist-packages (from spacy-nightly) (1.0.5)\n",
            "Requirement already satisfied: setuptools in /usr/local/lib/python3.7/dist-packages (from spacy-nightly) (57.0.0)\n",
            "Requirement already satisfied: preshed<3.1.0,>=3.0.2 in /usr/local/lib/python3.7/dist-packages (from spacy-nightly) (3.0.5)\n",
            "Requirement already satisfied: pathy in /usr/local/lib/python3.7/dist-packages (from spacy-nightly) (0.5.2)\n",
            "Requirement already satisfied: spacy-legacy<3.1.0,>=3.0.0.dev0 in /usr/local/lib/python3.7/dist-packages (from spacy-nightly) (3.0.6)\n",
            "Requirement already satisfied: pydantic<1.8.0,>=1.7.1 in /usr/local/lib/python3.7/dist-packages (from spacy-nightly) (1.7.4)\n",
            "Requirement already satisfied: importlib-metadata>=0.20 in /usr/local/lib/python3.7/dist-packages (from spacy-nightly) (4.5.0)\n",
            "Requirement already satisfied: typing-extensions>=3.7.4 in /usr/local/lib/python3.7/dist-packages (from spacy-nightly) (3.7.4.3)\n",
            "Requirement already satisfied: numpy>=1.15.0 in /usr/local/lib/python3.7/dist-packages (from spacy-nightly) (1.19.5)\n",
            "Requirement already satisfied: zipp>=0.5 in /usr/local/lib/python3.7/dist-packages (from catalogue<2.1.0,>=2.0.1->spacy-nightly) (3.4.1)\n",
            "Requirement already satisfied: pyparsing>=2.0.2 in /usr/local/lib/python3.7/dist-packages (from packaging>=20.0->spacy-nightly) (2.4.7)\n",
            "Requirement already satisfied: certifi>=2017.4.17 in /usr/local/lib/python3.7/dist-packages (from requests<3.0.0,>=2.13.0->spacy-nightly) (2021.5.30)\n",
            "Requirement already satisfied: urllib3!=1.25.0,!=1.25.1,<1.26,>=1.21.1 in /usr/local/lib/python3.7/dist-packages (from requests<3.0.0,>=2.13.0->spacy-nightly) (1.24.3)\n",
            "Requirement already satisfied: chardet<4,>=3.0.2 in /usr/local/lib/python3.7/dist-packages (from requests<3.0.0,>=2.13.0->spacy-nightly) (3.0.4)\n",
            "Requirement already satisfied: idna<3,>=2.5 in /usr/local/lib/python3.7/dist-packages (from requests<3.0.0,>=2.13.0->spacy-nightly) (2.10)\n",
            "Requirement already satisfied: click<7.2.0,>=7.1.1 in /usr/local/lib/python3.7/dist-packages (from typer<0.4.0,>=0.3.0->spacy-nightly) (7.1.2)\n",
            "Requirement already satisfied: MarkupSafe>=0.23 in /usr/local/lib/python3.7/dist-packages (from jinja2->spacy-nightly) (2.0.1)\n",
            "Requirement already satisfied: smart-open<4.0.0,>=2.2.0 in /usr/local/lib/python3.7/dist-packages (from pathy->spacy-nightly) (3.0.0)\n",
            "Installing collected packages: spacy-nightly\n",
            "Successfully installed spacy-nightly-3.0.0rc5\n",
            "\u001b[33mWARNING: Running pip as root will break packages and permissions. You should install packages reliably by using venv: https://pip.pypa.io/warnings/venv\u001b[0m\n"
          ],
          "name": "stdout"
        }
      ]
    },
    {
      "cell_type": "code",
      "metadata": {
        "id": "MyKK8ROgQwDJ",
        "colab": {
          "base_uri": "https://localhost:8080/"
        },
        "outputId": "815e853e-db01-4bc2-9f56-f5082058e3de"
      },
      "source": [
        "!pip install -U pip setuptools wheel"
      ],
      "execution_count": null,
      "outputs": [
        {
          "output_type": "stream",
          "text": [
            "Requirement already satisfied: pip in /usr/local/lib/python3.7/dist-packages (21.1.2)\n",
            "Requirement already satisfied: setuptools in /usr/local/lib/python3.7/dist-packages (57.0.0)\n",
            "Requirement already satisfied: wheel in /usr/local/lib/python3.7/dist-packages (0.36.2)\n",
            "\u001b[33mWARNING: Running pip as root will break packages and permissions. You should install packages reliably by using venv: https://pip.pypa.io/warnings/venv\u001b[0m\n"
          ],
          "name": "stdout"
        }
      ]
    },
    {
      "cell_type": "code",
      "metadata": {
        "id": "p0O7OmXHRbaG",
        "colab": {
          "base_uri": "https://localhost:8080/"
        },
        "outputId": "421acad4-6e78-4175-8c63-61941d653c09"
      },
      "source": [
        "!pip install -U spacy transformers"
      ],
      "execution_count": null,
      "outputs": [
        {
          "output_type": "stream",
          "text": [
            "Requirement already satisfied: spacy in /usr/local/lib/python3.7/dist-packages (3.0.6)\n",
            "Requirement already satisfied: transformers in /usr/local/lib/python3.7/dist-packages (4.7.0)\n",
            "Requirement already satisfied: wasabi<1.1.0,>=0.8.1 in /usr/local/lib/python3.7/dist-packages (from spacy) (0.8.2)\n",
            "Requirement already satisfied: packaging>=20.0 in /usr/local/lib/python3.7/dist-packages (from spacy) (20.9)\n",
            "Requirement already satisfied: setuptools in /usr/local/lib/python3.7/dist-packages (from spacy) (57.0.0)\n",
            "Requirement already satisfied: requests<3.0.0,>=2.13.0 in /usr/local/lib/python3.7/dist-packages (from spacy) (2.23.0)\n",
            "Requirement already satisfied: murmurhash<1.1.0,>=0.28.0 in /usr/local/lib/python3.7/dist-packages (from spacy) (1.0.5)\n",
            "Requirement already satisfied: typing-extensions<4.0.0.0,>=3.7.4 in /usr/local/lib/python3.7/dist-packages (from spacy) (3.7.4.3)\n",
            "Requirement already satisfied: cymem<2.1.0,>=2.0.2 in /usr/local/lib/python3.7/dist-packages (from spacy) (2.0.5)\n",
            "Requirement already satisfied: catalogue<2.1.0,>=2.0.3 in /usr/local/lib/python3.7/dist-packages (from spacy) (2.0.4)\n",
            "Requirement already satisfied: spacy-legacy<3.1.0,>=3.0.4 in /usr/local/lib/python3.7/dist-packages (from spacy) (3.0.6)\n",
            "Requirement already satisfied: preshed<3.1.0,>=3.0.2 in /usr/local/lib/python3.7/dist-packages (from spacy) (3.0.5)\n",
            "Requirement already satisfied: thinc<8.1.0,>=8.0.3 in /usr/local/lib/python3.7/dist-packages (from spacy) (8.0.6)\n",
            "Requirement already satisfied: tqdm<5.0.0,>=4.38.0 in /usr/local/lib/python3.7/dist-packages (from spacy) (4.41.1)\n",
            "Requirement already satisfied: pydantic<1.8.0,>=1.7.1 in /usr/local/lib/python3.7/dist-packages (from spacy) (1.7.4)\n",
            "Requirement already satisfied: blis<0.8.0,>=0.4.0 in /usr/local/lib/python3.7/dist-packages (from spacy) (0.4.1)\n",
            "Requirement already satisfied: pathy>=0.3.5 in /usr/local/lib/python3.7/dist-packages (from spacy) (0.5.2)\n",
            "Requirement already satisfied: srsly<3.0.0,>=2.4.1 in /usr/local/lib/python3.7/dist-packages (from spacy) (2.4.1)\n",
            "Requirement already satisfied: jinja2 in /usr/local/lib/python3.7/dist-packages (from spacy) (2.11.3)\n",
            "Requirement already satisfied: numpy>=1.15.0 in /usr/local/lib/python3.7/dist-packages (from spacy) (1.19.5)\n",
            "Requirement already satisfied: typer<0.4.0,>=0.3.0 in /usr/local/lib/python3.7/dist-packages (from spacy) (0.3.2)\n",
            "Requirement already satisfied: zipp>=0.5 in /usr/local/lib/python3.7/dist-packages (from catalogue<2.1.0,>=2.0.3->spacy) (3.4.1)\n",
            "Requirement already satisfied: pyparsing>=2.0.2 in /usr/local/lib/python3.7/dist-packages (from packaging>=20.0->spacy) (2.4.7)\n",
            "Requirement already satisfied: smart-open<4.0.0,>=2.2.0 in /usr/local/lib/python3.7/dist-packages (from pathy>=0.3.5->spacy) (3.0.0)\n",
            "Requirement already satisfied: certifi>=2017.4.17 in /usr/local/lib/python3.7/dist-packages (from requests<3.0.0,>=2.13.0->spacy) (2021.5.30)\n",
            "Requirement already satisfied: urllib3!=1.25.0,!=1.25.1,<1.26,>=1.21.1 in /usr/local/lib/python3.7/dist-packages (from requests<3.0.0,>=2.13.0->spacy) (1.24.3)\n",
            "Requirement already satisfied: chardet<4,>=3.0.2 in /usr/local/lib/python3.7/dist-packages (from requests<3.0.0,>=2.13.0->spacy) (3.0.4)\n",
            "Requirement already satisfied: idna<3,>=2.5 in /usr/local/lib/python3.7/dist-packages (from requests<3.0.0,>=2.13.0->spacy) (2.10)\n",
            "Requirement already satisfied: click<7.2.0,>=7.1.1 in /usr/local/lib/python3.7/dist-packages (from typer<0.4.0,>=0.3.0->spacy) (7.1.2)\n",
            "Requirement already satisfied: tokenizers<0.11,>=0.10.1 in /usr/local/lib/python3.7/dist-packages (from transformers) (0.10.3)\n",
            "Requirement already satisfied: pyyaml in /usr/local/lib/python3.7/dist-packages (from transformers) (3.13)\n",
            "Requirement already satisfied: huggingface-hub==0.0.8 in /usr/local/lib/python3.7/dist-packages (from transformers) (0.0.8)\n",
            "Requirement already satisfied: filelock in /usr/local/lib/python3.7/dist-packages (from transformers) (3.0.12)\n",
            "Requirement already satisfied: regex!=2019.12.17 in /usr/local/lib/python3.7/dist-packages (from transformers) (2019.12.20)\n",
            "Requirement already satisfied: sacremoses in /usr/local/lib/python3.7/dist-packages (from transformers) (0.0.45)\n",
            "Requirement already satisfied: importlib-metadata in /usr/local/lib/python3.7/dist-packages (from transformers) (4.5.0)\n",
            "Requirement already satisfied: MarkupSafe>=0.23 in /usr/local/lib/python3.7/dist-packages (from jinja2->spacy) (2.0.1)\n",
            "Requirement already satisfied: joblib in /usr/local/lib/python3.7/dist-packages (from sacremoses->transformers) (1.0.1)\n",
            "Requirement already satisfied: six in /usr/local/lib/python3.7/dist-packages (from sacremoses->transformers) (1.15.0)\n",
            "\u001b[33mWARNING: Running pip as root will break packages and permissions. You should install packages reliably by using venv: https://pip.pypa.io/warnings/venv\u001b[0m\n"
          ],
          "name": "stdout"
        }
      ]
    },
    {
      "cell_type": "markdown",
      "metadata": {
        "id": "Mofd5GxBPXFa"
      },
      "source": [
        "Now that everything is set up, change working directory to the newly created directory NLP_MASTER in your Google Drive"
      ]
    },
    {
      "cell_type": "code",
      "metadata": {
        "id": "kjw_FZuXDEOy",
        "colab": {
          "base_uri": "https://localhost:8080/"
        },
        "outputId": "18f462d9-75ca-4fdf-a204-2cadead5fda0"
      },
      "source": [
        "%cd /content/drive/MyDrive/NLP_MASTER/"
      ],
      "execution_count": null,
      "outputs": [
        {
          "output_type": "stream",
          "text": [
            "/content/drive/MyDrive/NLP_MASTER\n"
          ],
          "name": "stdout"
        }
      ]
    },
    {
      "cell_type": "markdown",
      "metadata": {
        "id": "fPlHXzyLPgSv"
      },
      "source": [
        "Cline the official projects from the Spacy Repo, you are going to start from [this one](https://github.com/explosion/projects/tree/v3/tutorials/textcat_goemotions) and adapt it to the sentiment classification of financial news headlines"
      ]
    },
    {
      "cell_type": "code",
      "metadata": {
        "id": "gTvvKjIbDfxm",
        "colab": {
          "base_uri": "https://localhost:8080/"
        },
        "outputId": "e88cf309-eac1-42bd-b475-e7b7928bb7d9"
      },
      "source": [
        "!git clone https://github.com/explosion/projects.git spacy-projects"
      ],
      "execution_count": null,
      "outputs": [
        {
          "output_type": "stream",
          "text": [
            "Cloning into 'spacy-projects'...\n",
            "remote: Enumerating objects: 2684, done.\u001b[K\n",
            "remote: Counting objects: 100% (214/214), done.\u001b[K\n",
            "remote: Compressing objects: 100% (138/138), done.\u001b[K\n",
            "remote: Total 2684 (delta 102), reused 146 (delta 74), pack-reused 2470\u001b[K\n",
            "Receiving objects: 100% (2684/2684), 10.75 MiB | 7.88 MiB/s, done.\n",
            "Resolving deltas: 100% (1655/1655), done.\n",
            "Checking out files: 100% (264/264), done.\n"
          ],
          "name": "stdout"
        }
      ]
    },
    {
      "cell_type": "markdown",
      "metadata": {
        "id": "RJK3BhiXP8DT"
      },
      "source": [
        "Let's now create a subdirectory \"finance\" inside NLP_MASTER, where we are going to copy the textcat_goemotions tutorial we just cloned with git with the command above"
      ]
    },
    {
      "cell_type": "code",
      "metadata": {
        "id": "QOxbLb97D4x-"
      },
      "source": [
        "!mkdir finance"
      ],
      "execution_count": null,
      "outputs": []
    },
    {
      "cell_type": "code",
      "metadata": {
        "id": "MTp6GIMhDtKS"
      },
      "source": [
        "!cp -r spacy-projects/tutorials/textcat_goemotions/* finance/"
      ],
      "execution_count": null,
      "outputs": []
    },
    {
      "cell_type": "code",
      "metadata": {
        "id": "zxhHBE5tEEoQ",
        "colab": {
          "base_uri": "https://localhost:8080/"
        },
        "outputId": "b1e2a71f-cc3f-4bfb-b1e6-b32eef7682ce"
      },
      "source": [
        "%cd /content/drive/MyDrive/NLP_MASTER/finance/"
      ],
      "execution_count": null,
      "outputs": [
        {
          "output_type": "stream",
          "text": [
            "/content/drive/MyDrive/NLP_MASTER/finance\n"
          ],
          "name": "stdout"
        }
      ]
    },
    {
      "cell_type": "markdown",
      "metadata": {
        "id": "sRzaWYD1QKfd"
      },
      "source": [
        "Spacy command line in action: now that we moved in the root directory of the project we tell Spacy to download everything the project needs in order to be run"
      ]
    },
    {
      "cell_type": "code",
      "metadata": {
        "id": "7f9FRuUTRg1c",
        "colab": {
          "base_uri": "https://localhost:8080/"
        },
        "outputId": "6723000f-521c-4348-b6d5-7ab26d8b5d03"
      },
      "source": [
        "!spacy project assets"
      ],
      "execution_count": null,
      "outputs": [
        {
          "output_type": "stream",
          "text": [
            "2021-06-22 12:38:52.999991: I tensorflow/stream_executor/platform/default/dso_loader.cc:53] Successfully opened dynamic library libcudart.so.11.0\n",
            "\u001b[38;5;4mℹ Fetching 4 asset(s)\u001b[0m\n",
            "\u001b[38;5;2m✔ Downloaded asset\n",
            "/content/drive/MyDrive/NLP_MASTER/finance/assets/categories.txt\u001b[0m\n",
            "\u001b[38;5;2m✔ Downloaded asset\n",
            "/content/drive/MyDrive/NLP_MASTER/finance/assets/train.tsv\u001b[0m\n",
            "\u001b[38;5;2m✔ Downloaded asset\n",
            "/content/drive/MyDrive/NLP_MASTER/finance/assets/dev.tsv\u001b[0m\n",
            "\u001b[38;5;2m✔ Downloaded asset\n",
            "/content/drive/MyDrive/NLP_MASTER/finance/assets/test.tsv\u001b[0m\n"
          ],
          "name": "stdout"
        }
      ]
    },
    {
      "cell_type": "markdown",
      "metadata": {
        "id": "78DD2RmEcR2F"
      },
      "source": [
        "# Sentiment analysis: Reddit Posts Dataset"
      ]
    },
    {
      "cell_type": "markdown",
      "metadata": {
        "id": "ZPwXLgE9hv6G"
      },
      "source": [
        "*Example records [TEXT_CONTENT, EMOTION_ID, TEXT_ID]:*\n",
        "\n",
        "You can take a look at the dataset [here](https://drive.google.com/file/d/118kEBuOXikDJhlAvDVmAVxNBymtQ5MKb/view?usp=sharing)"
      ]
    },
    {
      "cell_type": "markdown",
      "metadata": {
        "id": "o4QqOVpUhtyb"
      },
      "source": [
        "*   My favourite food is anything I didn't have to cook myself.\t27\teebbqej \n",
        "*   Thank you friend\t15\teeqd04y\n",
        "*   It's crazy how far Photoshop has come. Underwater bridges?!! NEVER!!!\t7,13\tefanc6t\n",
        "\n",
        "\n",
        "Check out **assets/categories.txt** to explore the labels for this dataset. *The first row corresponds to the emotion_id 0, the second row to the emotion_id 1 and so on.*\n",
        "\n",
        "---\n",
        "\n"
      ]
    },
    {
      "cell_type": "markdown",
      "metadata": {
        "id": "ZJMuYICMaiqC"
      },
      "source": [
        "***Edit project.yml and change gpu_id from -1 to 0 in order to take advantage of the Colab GPU***"
      ]
    },
    {
      "cell_type": "markdown",
      "metadata": {
        "id": "Y96ESvsRtP2V"
      },
      "source": [
        "Let Spacy **preprocess Reddit Posts Dataset** (assets/train.tsv, assets/dev.tsv, assets/test.tsv and assets/categories.txt) and format it as it internally needs."
      ]
    },
    {
      "cell_type": "code",
      "metadata": {
        "id": "-3yma_DPSBfT",
        "colab": {
          "base_uri": "https://localhost:8080/"
        },
        "outputId": "18a31c84-6320-4cbd-9af8-fa07ac42e48e"
      },
      "source": [
        "#!spacy project run preprocess"
      ],
      "execution_count": null,
      "outputs": [
        {
          "output_type": "stream",
          "text": [
            "2021-06-22 12:19:45.319742: I tensorflow/stream_executor/platform/default/dso_loader.cc:53] Successfully opened dynamic library libcudart.so.11.0\n",
            "\u001b[1m\n",
            "================================= preprocess =================================\u001b[0m\n",
            "Running command: /usr/bin/python3 scripts/convert_corpus.py\n",
            "2021-06-22 12:19:48.056833: I tensorflow/stream_executor/platform/default/dso_loader.cc:53] Successfully opened dynamic library libcudart.so.11.0\n"
          ],
          "name": "stdout"
        }
      ]
    },
    {
      "cell_type": "markdown",
      "metadata": {
        "id": "8M7Z42aexBQP"
      },
      "source": [
        "Now that the dataset has been processed, **let's train the model** on the Reddit posts!"
      ]
    },
    {
      "cell_type": "code",
      "metadata": {
        "id": "Gs2nJiMGSSkH",
        "colab": {
          "base_uri": "https://localhost:8080/"
        },
        "outputId": "b501853a-522a-4040-9845-2d0939d7c66f"
      },
      "source": [
        "#!spacy project run train"
      ],
      "execution_count": null,
      "outputs": [
        {
          "output_type": "stream",
          "text": [
            "2021-06-22 12:20:16.267282: I tensorflow/stream_executor/platform/default/dso_loader.cc:53] Successfully opened dynamic library libcudart.so.11.0\n",
            "\u001b[1m\n",
            "=================================== train ===================================\u001b[0m\n",
            "Running command: /usr/bin/python3 -c 'import os; os.makedirs(os.path.join('\"'\"'training'\"'\"', '\"'\"'cnn'\"'\"'))'\n",
            "Running command: /usr/bin/python3 -m spacy train ./configs/cnn.cfg -o training/cnn --gpu-id 0\n",
            "\n",
            "Aborted!\n"
          ],
          "name": "stdout"
        }
      ]
    },
    {
      "cell_type": "markdown",
      "metadata": {
        "id": "WrWk8jo_xKt0"
      },
      "source": [
        "Automatic SpaCy evaluation of the model you just trained"
      ]
    },
    {
      "cell_type": "code",
      "metadata": {
        "id": "vsUFT-TZWnUR",
        "colab": {
          "base_uri": "https://localhost:8080/"
        },
        "outputId": "75dbd554-ed07-416f-a335-5edb5f31beb7"
      },
      "source": [
        "#!spacy project run evaluate"
      ],
      "execution_count": null,
      "outputs": [
        {
          "output_type": "stream",
          "text": [
            "shell-init: error retrieving current directory: getcwd: cannot access parent directories: No such file or directory\n",
            "sh: 0: getcwd() failed: No such file or directory\n",
            "Intel MKL FATAL ERROR: Cannot load /usr/local/lib/python3.7/dist-packages/torch/lib/libtorch_cpu.so.\n"
          ],
          "name": "stdout"
        }
      ]
    },
    {
      "cell_type": "markdown",
      "metadata": {
        "id": "GvPLr4kjmevs"
      },
      "source": [
        "Let's test the model on some examples, **feel free to change them to whatever you want**!"
      ]
    },
    {
      "cell_type": "code",
      "metadata": {
        "id": "tP9ZWIoJXGmy"
      },
      "source": [
        "#import spacy\n",
        "#nlp = spacy.load(\"./training/cnn/model-best\")\n",
        "\n",
        "#texts = [\n",
        "#    \"It was really bad to watch you leave, hopefully you'll be back soon\",\n",
        "#    \"Oh yes, I can relate to that. Still, you'd better think about it twice.\",\n",
        "#]\n",
        "\n",
        "#for doc in nlp.pipe(texts):\n",
        "    # Do something with the doc here\n",
        "#    print(doc.cats)"
      ],
      "execution_count": null,
      "outputs": []
    },
    {
      "cell_type": "markdown",
      "metadata": {
        "id": "icfgI4EuxGNO"
      },
      "source": [
        "#Data Preparation: from the Reddit Post Dataset to the Financial News Dataset\n",
        "**TODO: Upload Financial News Dataset file FinancialPhraseBank_AllAgree.txt to the assets folder, you can find the dataset [here](https://drive.google.com/file/d/1WXM2t8sh-myIEUZt37zIXC2McNrCyS2l/view?usp=sharing)**\\\n",
        "Financial news dataset example records [TEXT_CONTENT, SENTIMENT_LABEL]:\n",
        "\n",
        "\n",
        "*   According to Gran , the company has no plans to move all production to Russia , although that is where the company is growing .@neutral\n",
        "*   Finnish Talentum reports its operating profit increased to EUR 20.5 mn in 2005 from EUR 9.3 mn in 2004 , and net sales totaled EUR 103.3 mn , up from EUR 96.4 mn .@positive\n",
        "*   Pharmaceuticals group Orion Corp reported a fall in its third-quarter earnings that were hit by larger expenditures on R&D and marketing .@negative\n",
        "\n",
        "\n",
        "\n",
        "---\n",
        "\n",
        "Now you have to **format the Financial News Dataset like the Reddit Posts Dataset**, in order to retrain the sentiment classifier on the new financial dataset.\n",
        "\n",
        "Remember to split the dataset into train (70%), validation (10%) and test (20%), **saving the respective TSV files (train.tsv, dev.tsv, test.tsv) in the asset folder** .\n",
        "\n"
      ]
    },
    {
      "cell_type": "code",
      "metadata": {
        "id": "oOpT4WY7rIT6",
        "colab": {
          "base_uri": "https://localhost:8080/",
          "height": 204
        },
        "outputId": "4c144f71-1765-4264-cd93-57aca15dbc80"
      },
      "source": [
        "import pandas as pd\n",
        "import uuid \n",
        "import numpy as np\n",
        "\n",
        "df = pd.read_csv('assets/Sentences_All.csv', sep='\\t')\n",
        "\n",
        "df.columns = ['text', 'sentiment', 'index']\n",
        "df.head()"
      ],
      "execution_count": null,
      "outputs": [
        {
          "output_type": "execute_result",
          "data": {
            "text/html": [
              "<div>\n",
              "<style scoped>\n",
              "    .dataframe tbody tr th:only-of-type {\n",
              "        vertical-align: middle;\n",
              "    }\n",
              "\n",
              "    .dataframe tbody tr th {\n",
              "        vertical-align: top;\n",
              "    }\n",
              "\n",
              "    .dataframe thead th {\n",
              "        text-align: right;\n",
              "    }\n",
              "</style>\n",
              "<table border=\"1\" class=\"dataframe\">\n",
              "  <thead>\n",
              "    <tr style=\"text-align: right;\">\n",
              "      <th></th>\n",
              "      <th>text</th>\n",
              "      <th>sentiment</th>\n",
              "      <th>index</th>\n",
              "    </tr>\n",
              "  </thead>\n",
              "  <tbody>\n",
              "    <tr>\n",
              "      <th>0</th>\n",
              "      <td>Marimekko Group 's full-year net sales are est...</td>\n",
              "      <td>positive</td>\n",
              "      <td>0</td>\n",
              "    </tr>\n",
              "    <tr>\n",
              "      <th>1</th>\n",
              "      <td>In addition , a further 29 employees can be la...</td>\n",
              "      <td>negative</td>\n",
              "      <td>1</td>\n",
              "    </tr>\n",
              "    <tr>\n",
              "      <th>2</th>\n",
              "      <td>Neste Oil s refineries have a combined crude o...</td>\n",
              "      <td>neutral</td>\n",
              "      <td>2</td>\n",
              "    </tr>\n",
              "    <tr>\n",
              "      <th>3</th>\n",
              "      <td>In food trade , sales amounted to EUR320 .1 m ...</td>\n",
              "      <td>negative</td>\n",
              "      <td>3</td>\n",
              "    </tr>\n",
              "    <tr>\n",
              "      <th>4</th>\n",
              "      <td>The employment contracts of 14 of the employee...</td>\n",
              "      <td>negative</td>\n",
              "      <td>4</td>\n",
              "    </tr>\n",
              "  </tbody>\n",
              "</table>\n",
              "</div>"
            ],
            "text/plain": [
              "                                                text sentiment  index\n",
              "0  Marimekko Group 's full-year net sales are est...  positive      0\n",
              "1  In addition , a further 29 employees can be la...  negative      1\n",
              "2  Neste Oil s refineries have a combined crude o...   neutral      2\n",
              "3  In food trade , sales amounted to EUR320 .1 m ...  negative      3\n",
              "4  The employment contracts of 14 of the employee...  negative      4"
            ]
          },
          "metadata": {
            "tags": []
          },
          "execution_count": 33
        }
      ]
    },
    {
      "cell_type": "code",
      "metadata": {
        "id": "2JAyLMeMOCos",
        "colab": {
          "base_uri": "https://localhost:8080/",
          "height": 204
        },
        "outputId": "00bb7a2b-5c13-44ca-c431-6618f4adcf19"
      },
      "source": [
        "labels_dict = {'negative': 0, 'neutral': 1, 'positive': 2}\n",
        "df['sentiment'] = df['sentiment'].map(labels_dict)\n",
        "\n",
        "df.head()"
      ],
      "execution_count": null,
      "outputs": [
        {
          "output_type": "execute_result",
          "data": {
            "text/html": [
              "<div>\n",
              "<style scoped>\n",
              "    .dataframe tbody tr th:only-of-type {\n",
              "        vertical-align: middle;\n",
              "    }\n",
              "\n",
              "    .dataframe tbody tr th {\n",
              "        vertical-align: top;\n",
              "    }\n",
              "\n",
              "    .dataframe thead th {\n",
              "        text-align: right;\n",
              "    }\n",
              "</style>\n",
              "<table border=\"1\" class=\"dataframe\">\n",
              "  <thead>\n",
              "    <tr style=\"text-align: right;\">\n",
              "      <th></th>\n",
              "      <th>text</th>\n",
              "      <th>sentiment</th>\n",
              "      <th>index</th>\n",
              "    </tr>\n",
              "  </thead>\n",
              "  <tbody>\n",
              "    <tr>\n",
              "      <th>0</th>\n",
              "      <td>Marimekko Group 's full-year net sales are est...</td>\n",
              "      <td>2</td>\n",
              "      <td>0</td>\n",
              "    </tr>\n",
              "    <tr>\n",
              "      <th>1</th>\n",
              "      <td>In addition , a further 29 employees can be la...</td>\n",
              "      <td>0</td>\n",
              "      <td>1</td>\n",
              "    </tr>\n",
              "    <tr>\n",
              "      <th>2</th>\n",
              "      <td>Neste Oil s refineries have a combined crude o...</td>\n",
              "      <td>1</td>\n",
              "      <td>2</td>\n",
              "    </tr>\n",
              "    <tr>\n",
              "      <th>3</th>\n",
              "      <td>In food trade , sales amounted to EUR320 .1 m ...</td>\n",
              "      <td>0</td>\n",
              "      <td>3</td>\n",
              "    </tr>\n",
              "    <tr>\n",
              "      <th>4</th>\n",
              "      <td>The employment contracts of 14 of the employee...</td>\n",
              "      <td>0</td>\n",
              "      <td>4</td>\n",
              "    </tr>\n",
              "  </tbody>\n",
              "</table>\n",
              "</div>"
            ],
            "text/plain": [
              "                                                text  sentiment  index\n",
              "0  Marimekko Group 's full-year net sales are est...          2      0\n",
              "1  In addition , a further 29 employees can be la...          0      1\n",
              "2  Neste Oil s refineries have a combined crude o...          1      2\n",
              "3  In food trade , sales amounted to EUR320 .1 m ...          0      3\n",
              "4  The employment contracts of 14 of the employee...          0      4"
            ]
          },
          "metadata": {
            "tags": []
          },
          "execution_count": 34
        }
      ]
    },
    {
      "cell_type": "code",
      "metadata": {
        "id": "hWiK9kBzL4uf"
      },
      "source": [
        "df = df.sample(frac=1)\n",
        "\n",
        "\n",
        "df_train, df_dev, df_test = df[:int(len(df)*0.7)].copy(), df[int(len(df)*0.7):int(len(df)*0.9)].copy(), df[int(len(df)*0.9):].copy()\n",
        "# assuming you have changed the format of the dataset to the one assumed by the\n",
        "# Spacy tutorial and split it in train/dev/test it's now time to write the datasets\n",
        "# to the assets folder\n",
        "# PAY ATTENTION: df, df_train, df_dev and df_test do not exist yet and you need\n",
        "# to create them!\n",
        "df.to_csv('assets/financial_emotions.tsv',sep='\\t',index=None, header=None)\n",
        "df_train.to_csv('assets/train.tsv',sep='\\t',index=None, header=None)\n",
        "df_dev.to_csv('assets/dev.tsv',sep='\\t',index=None, header=None)\n",
        "df_test.to_csv('assets/test.tsv',sep='\\t',index=None, header=None)"
      ],
      "execution_count": null,
      "outputs": []
    },
    {
      "cell_type": "code",
      "metadata": {
        "colab": {
          "base_uri": "https://localhost:8080/",
          "height": 265
        },
        "id": "v2dKPUgrIoxR",
        "outputId": "6231c08f-6680-4c4f-a162-f4e16a24fd08"
      },
      "source": [
        "df['sentiment'].value_counts().plot.pie()"
      ],
      "execution_count": null,
      "outputs": [
        {
          "output_type": "execute_result",
          "data": {
            "text/plain": [
              "<matplotlib.axes._subplots.AxesSubplot at 0x7f9842e68610>"
            ]
          },
          "metadata": {
            "tags": []
          },
          "execution_count": 36
        },
        {
          "output_type": "display_data",
          "data": {
            "image/png": "[encoded data removed]",
            "text/plain": [
              "<Figure size 432x288 with 1 Axes>"
            ]
          },
          "metadata": {
            "tags": []
          }
        }
      ]
    },
    {
      "cell_type": "markdown",
      "metadata": {
        "id": "IQzb59pGk2F3"
      },
      "source": [
        "If you didn't do it before, check out the file under assets/categories.txt : it contains the (many) labels for the sentiment classification of the Reddit Posts Dataset, now you have to **change it to the labels of the Financial News Dataset (neutral, positive, negative)**."
      ]
    },
    {
      "cell_type": "code",
      "metadata": {
        "id": "Gf2gsGF5Pm5A"
      },
      "source": [
        "!echo -en \"neutral\\npositive\\nnegative\" > /content/drive/MyDrive/NLP_MASTER/finance/assets/categories.txt"
      ],
      "execution_count": null,
      "outputs": []
    },
    {
      "cell_type": "markdown",
      "metadata": {
        "id": "iOiyarkvlUsI"
      },
      "source": [
        "Let again Spacy **preprocess our input files** (assets/train.tsv, assets/dev.tsv, assets/test.tsv and assets/categories.txt) and format them as it internally needs."
      ]
    },
    {
      "cell_type": "code",
      "metadata": {
        "id": "bfaExG4FNcMs",
        "colab": {
          "base_uri": "https://localhost:8080/"
        },
        "outputId": "75fd7d4f-6462-4b48-a285-d5ffaae4f975"
      },
      "source": [
        "!spacy project run preprocess"
      ],
      "execution_count": null,
      "outputs": [
        {
          "output_type": "stream",
          "text": [
            "2021-06-22 12:42:23.085393: I tensorflow/stream_executor/platform/default/dso_loader.cc:53] Successfully opened dynamic library libcudart.so.11.0\n",
            "\u001b[1m\n",
            "================================= preprocess =================================\u001b[0m\n",
            "\u001b[38;5;4mℹ Skipping 'preprocess': nothing changed\u001b[0m\n"
          ],
          "name": "stdout"
        }
      ]
    },
    {
      "cell_type": "markdown",
      "metadata": {
        "id": "__aHmybpl0_M"
      },
      "source": [
        "Spacy is a bit picky about existing directories, **delete the previous CNN model** you trained on the Reddit Posts Dataset"
      ]
    },
    {
      "cell_type": "code",
      "metadata": {
        "id": "NGCpwpsGOUYE"
      },
      "source": [
        "!rm -rf /content/drive/MyDrive/NLP_MASTER/finance/training/cnn"
      ],
      "execution_count": null,
      "outputs": []
    },
    {
      "cell_type": "markdown",
      "metadata": {
        "id": "OeT1LSy7mCyF"
      },
      "source": [
        "Everything is ready, **let's train the model** on the Financial News Dataset!"
      ]
    },
    {
      "cell_type": "code",
      "metadata": {
        "id": "ox9yjwooNcvT",
        "colab": {
          "base_uri": "https://localhost:8080/"
        },
        "outputId": "4fc9f293-6f15-427a-ef9d-bf9de6c56690"
      },
      "source": [
        "!spacy project run train"
      ],
      "execution_count": null,
      "outputs": [
        {
          "output_type": "stream",
          "text": [
            "2021-06-22 12:42:32.710320: I tensorflow/stream_executor/platform/default/dso_loader.cc:53] Successfully opened dynamic library libcudart.so.11.0\n",
            "\u001b[1m\n",
            "=================================== train ===================================\u001b[0m\n",
            "Running command: /usr/bin/python3 -c 'import os; os.makedirs(os.path.join('\"'\"'training'\"'\"', '\"'\"'cnn'\"'\"'))'\n",
            "Running command: /usr/bin/python3 -m spacy train ./configs/cnn.cfg -o training/cnn --gpu-id 0\n",
            "2021-06-22 12:42:36.094549: I tensorflow/stream_executor/platform/default/dso_loader.cc:53] Successfully opened dynamic library libcudart.so.11.0\n",
            "\u001b[38;5;4mℹ Using GPU: 0\u001b[0m\n",
            "\u001b[1m\n",
            "=========================== Initializing pipeline ===========================\u001b[0m\n",
            "Set up nlp object from config\n",
            "Pipeline: ['textcat']\n",
            "Created vocabulary\n",
            "Finished initializing nlp object\n",
            "Initialized pipeline components: ['textcat']\n",
            "\u001b[38;5;2m✔ Initialized pipeline\u001b[0m\n",
            "\u001b[1m\n",
            "============================= Training pipeline =============================\u001b[0m\n",
            "\u001b[38;5;4mℹ Pipeline: ['textcat']\u001b[0m\n",
            "\u001b[38;5;4mℹ Initial learn rate: 0.001\u001b[0m\n",
            "E    #       LOSS TEXTCAT  CATS_SCORE  SCORE \n",
            "---  ------  ------------  ----------  ------\n",
            "  0       0          0.00       56.87    0.57\n",
            "  4     200          0.06       89.79    0.90\n",
            "  9     400          0.01       89.83    0.90\n",
            " 14     600          0.00       89.66    0.90\n",
            " 19     800          0.00       89.27    0.89\n",
            " 24    1000          0.00       89.19    0.89\n",
            " 29    1200          0.00       89.24    0.89\n",
            " 34    1400          0.00       88.87    0.89\n",
            " 39    1600          0.00       89.19    0.89\n",
            " 43    1800          0.00       89.33    0.89\n",
            " 48    2000          0.00       89.05    0.89\n",
            "\u001b[38;5;2m✔ Saved pipeline to output directory\u001b[0m\n",
            "training/cnn/model-last\n"
          ],
          "name": "stdout"
        }
      ]
    },
    {
      "cell_type": "code",
      "metadata": {
        "id": "YwYEsf64NeOm",
        "colab": {
          "base_uri": "https://localhost:8080/"
        },
        "outputId": "7c8575a4-f908-4d6b-d818-5e81857713dc"
      },
      "source": [
        "!spacy project run evaluate"
      ],
      "execution_count": null,
      "outputs": [
        {
          "output_type": "stream",
          "text": [
            "2021-06-22 12:45:59.935514: I tensorflow/stream_executor/platform/default/dso_loader.cc:53] Successfully opened dynamic library libcudart.so.11.0\n",
            "\u001b[1m\n",
            "================================== evaluate ==================================\u001b[0m\n",
            "Running command: /usr/bin/python3 -m spacy evaluate ./training/cnn/model-best ./corpus/test.spacy --output ./metrics/cnn.json\n",
            "2021-06-22 12:46:03.272228: I tensorflow/stream_executor/platform/default/dso_loader.cc:53] Successfully opened dynamic library libcudart.so.11.0\n",
            "\u001b[38;5;4mℹ Using CPU\u001b[0m\n",
            "\u001b[1m\n",
            "================================== Results ==================================\u001b[0m\n",
            "\n",
            "TOK                   100.00\n",
            "TEXTCAT (macro AUC)   88.92 \n",
            "SPEED                 24069 \n",
            "\n",
            "\u001b[1m\n",
            "=========================== Textcat F (per label) ===========================\u001b[0m\n",
            "\n",
            "               P       R       F\n",
            "neutral    79.25   64.62   71.19\n",
            "positive   74.24   74.24   74.24\n",
            "negative   75.00   68.42   71.56\n",
            "\n",
            "\u001b[1m\n",
            "======================== Textcat ROC AUC (per label) ========================\u001b[0m\n",
            "\n",
            "           ROC AUC\n",
            "neutral       0.86\n",
            "positive      0.90\n",
            "negative      0.91\n",
            "\n",
            "\u001b[38;5;2m✔ Saved results to metrics/cnn.json\u001b[0m\n"
          ],
          "name": "stdout"
        }
      ]
    },
    {
      "cell_type": "markdown",
      "metadata": {
        "id": "dsukcqFNQMGt"
      },
      "source": [
        "# Running predictions on examples!"
      ]
    },
    {
      "cell_type": "code",
      "metadata": {
        "id": "hRpR7lhlNlKm",
        "colab": {
          "base_uri": "https://localhost:8080/"
        },
        "outputId": "60545e65-b0e2-48f2-ed44-3930f0751f5c"
      },
      "source": [
        "import spacy\n",
        "nlp = spacy.load(\"./training/cnn/model-best\")\n",
        "\n",
        "texts = [\n",
        "    \"Net income was $9.4 million compared to the prior year of $2.7 million.\",\n",
        "    \"Revenue exceeded twelve billion dollars, with a loss of $1b.\",\n",
        "    \"Very good, excellent\",\n",
        "    \"perfect\",\n",
        "    \"very bad, only loss, bankruptcy\"\n",
        "]\n",
        "\n",
        "for doc in nlp.pipe(texts):\n",
        "    # Do something with the doc here\n",
        "    print(doc.cats)"
      ],
      "execution_count": null,
      "outputs": [
        {
          "output_type": "stream",
          "text": [
            "{'neutral': 0.7215504050254822, 'positive': 0.001161465304903686, 'negative': 0.10287430882453918}\n",
            "{'neutral': 0.09399688243865967, 'positive': 0.3930477797985077, 'negative': 0.002560879336670041}\n",
            "{'neutral': 1.6494764167873655e-06, 'positive': 4.871281635132618e-05, 'negative': 0.9999992847442627}\n",
            "{'neutral': 0.26363271474838257, 'positive': 0.9999988079071045, 'negative': 6.585049866503212e-11}\n",
            "{'neutral': 0.97299724817276, 'positive': 0.0010659563122317195, 'negative': 0.031167391687631607}\n"
          ],
          "name": "stdout"
        }
      ]
    },
    {
      "cell_type": "markdown",
      "metadata": {
        "id": "1KNgnXQoq4An"
      },
      "source": [
        "# Next task: sentiment as a Prophet regressor\n",
        "\n",
        "Your task is to find a source of forex news, run the model on the news, and then include the sentiment output as an extra Prophet regressor for the Forex forecasting model.\n",
        "\n",
        "\n",
        "---\n",
        "\n",
        "You can get news data from Forex news archives like [this one](http://www.forexrate.co.uk/newsarchive.php).\n",
        "\n",
        "**If you do not want to look for a source to scrape yourself, you can use the dataset we built for you [here](https://drive.google.com/file/d/1bkFj9rnEBDifyjXiCg52n2vLjEzE-6mK/view?usp=sharing)**\n",
        "\n",
        "\n"
      ]
    },
    {
      "cell_type": "markdown",
      "metadata": {
        "id": "j6xflSeNTHv8"
      },
      "source": [
        "***The following cell does not need to be executed and it just shows you how to build a dataset (the forex news dataset you can download from the link above) scraping a website.***"
      ]
    },
    {
      "cell_type": "code",
      "metadata": {
        "id": "eJNChcLoNnMo",
        "colab": {
          "base_uri": "https://localhost:8080/",
          "height": 1000
        },
        "outputId": "878bbe68-505d-4692-8419-4ebd42280f4b"
      },
      "source": [
        "# PAY ATTENTION: NO NEED TO EXECUTE THIS CELL, IT IS JUST FOR DATASET BUILDING \n",
        "# DEMONSTRATION PURPOSES\n",
        "\n",
        "import requests\n",
        "from bs4 import BeautifulSoup\n",
        "import pandas as pd\n",
        "\n",
        "offset = 0\n",
        "max_offset = 1649\n",
        "offset_increment = 12\n",
        "\n",
        "BASE_URL = 'http://www.forexrate.co.uk/'\n",
        "\n",
        "news_archive = []\n",
        "\n",
        "for i in range(0,max_offset,offset_increment):\n",
        "  url = f'http://www.forexrate.co.uk/newsarchive.php?start={i}'\n",
        "  print(url)\n",
        "  page = requests.get(url)\n",
        "  soup = BeautifulSoup(page.content, 'html.parser')\n",
        "  tables = soup.findChildren('table')\n",
        "  news_table = tables[1]\n",
        "  rows = news_table.findChildren(['th', 'tr'])\n",
        "\n",
        "  for idx,row in enumerate(rows):\n",
        "    if idx == 0:\n",
        "        continue\n",
        "    cells = row.findChildren('td')\n",
        "    for idx,cell in enumerate(cells):\n",
        "      txt = cell.text\n",
        "      href = cell.find('a')['href']\n",
        "      href = BASE_URL + href.replace('./','')\n",
        "      if \"newsarchive.php?start=\" in href:\n",
        "        continue\n",
        "      # let's get the date of the article\n",
        "      date_page = requests.get(href)\n",
        "      date_soup = BeautifulSoup(date_page.content, 'html.parser')\n",
        "      date_div = date_soup.findChildren('div')[3]\n",
        "      date_str = date_div.text\n",
        "      news_archive.append({'txt':txt,'url':href,'date':date_str})\n",
        "      print(len(news_archive), date_str, {'txt':txt,'url':href,'date':date_str})\n",
        "\n",
        "df = pd.DataFrame(news_archive)"
      ],
      "execution_count": null,
      "outputs": [
        {
          "output_type": "stream",
          "text": [
            "http://www.forexrate.co.uk/newsarchive.php?start=0\n",
            "1 22-06-2021 02:21 {'txt': '\\nGBPUSD - GBPUSD slips further again below 1.3900\\n\\t\\t\\tGBPUSD is posting losses again after a bullish day and is still remaining beneath the 1.3900 handle. The 20- and 40-day simple moving averages (SMAs) are moving lower, approaching ...\\t\\t', 'url': 'http://www.forexrate.co.uk/GBPUSD---GBPUSD-slips-further-again-below-1-3-news1624357456.html', 'date': '22-06-2021 02:21'}\n",
            "2 22-06-2021 02:07 {'txt': '\\nOil Price - Azerbaijani oil prices change\\n\\t\\t\\tThe price of Azeri LT CIF Augusta, produced at the Azeri-Chirag-Deepwater Gunashli (ACG) field, went down by 22 cents on June 21 compared to the previous price, settling at $74.29 per barrel, Trend ...\\t\\t', 'url': 'http://www.forexrate.co.uk/Oil-Price---Azerbaijani-oil-prices-change-news1624357459.html', 'date': '22-06-2021 02:07'}\n",
            "3 21-06-2021 02:53 {'txt': '\\nEURUSD - EUR/USD finds footing near 23.6% Fibo, upside bias weak\\n\\t\\t\\tEURUSD has steadied slightly above 1.1856, which is the 23.6% Fibonacci retracement of the January-March downleg, following the sharp slide from the 1.21 vicinity last week. However, the upside ...\\t\\t', 'url': 'http://www.forexrate.co.uk/EURUSD---EUR-USD-finds-footing-near-23-6--Fib-news1624271031.html', 'date': '21-06-2021 02:53'}\n",
            "4 21-06-2021 02:00 {'txt': '\\nEURGBP - Sterling edges up after falling overnight below $1.38\\n\\t\\t\\tSterling edged higher on Monday after falling overnight to its lowest level since April as the currency remained vulnerable since the U.S. Federal Reserve surprised the market with a hawkish tone last ...\\t\\t', 'url': 'http://www.forexrate.co.uk/EURGBP---Sterling-edges-up-after-falling-over-news1624271016.html', 'date': '21-06-2021 02:00'}\n",
            "5 18-06-2021 02:47 {'txt': '\\nOil Price - Nigeria: Rising Oil Prices Will Create Problems for Nigeria - Kyari\\n\\t\\t\\tGroup Managing Director of the Nigerian National Petroleum Corporation (NNPC), Mallam Mele Kyari, has warned that rather than being a positive development, the rising prices of crude oil in the ...\\t\\t', 'url': 'http://www.forexrate.co.uk/Oil-Price---Nigeria--Rising-Oil-Prices-Will-C-news1624011948.html', 'date': '18-06-2021 02:47'}\n",
            "6 18-06-2021 02:41 {'txt': '\\nGold Price - Gold Price Today: Yellow metal above Rs 47,000, silver July futures up over 1%\\n\\t\\t\\tInvestors are advised to buy in gold around Rs 46,800 with a stop loss of Rs 46,600 for a target of Rs 47,300 and in silver around Rs 67,200 with a stop loss of Rs 66,600 for a target of Rs 68,500, ...\\t\\t', 'url': 'http://www.forexrate.co.uk/Gold-Price---Gold-Price-Today--Yellow-metal-a-news1624011946.html', 'date': '18-06-2021 02:41'}\n",
            "7 17-06-2021 02:46 {'txt': \"\\nBrent Oil - Oil Near $72 as Investors Size Up Fed Shift\\n\\t\\t\\tOil traded near $72 a barrel as investors weighed signs of a tightening global crude market against the Federal Reserve's decision to start moving toward an end of its ultra-easy monetary policy.\\t\\t\", 'url': 'http://www.forexrate.co.uk/Brent-Oil---Oil-Near--72-as-Investors-Size-Up-news1623925348.html', 'date': '17-06-2021 02:46'}\n",
            "8 17-06-2021 00:48 {'txt': '\\nGBPUSD - FxWirePro- GBPJPY Daily Outlook\\n\\t\\t\\tGBPJPY is consolidating in a narrow range between 155.48 and 154.53 for the past three days. The weakness in the pound sterling ...\\t\\t', 'url': 'http://www.forexrate.co.uk/GBPUSD---FxWirePro--GBPJPY-Daily-Outlook-news1623925350.html', 'date': '17-06-2021 00:48'}\n",
            "9 16-06-2021 01:48 {'txt': \"\\nEURGBP - Sterling ticks higher on surprise inflation surge\\n\\t\\t\\tSterling strengthened against the euro and dollar on Wednesday after data showed British inflation unexpectedly jumped above the Bank of England's 2% target in May, sparking some concerns that ...\\t\\t\", 'url': 'http://www.forexrate.co.uk/EURGBP---Sterling-ticks-higher-on-surprise-in-news1623839077.html', 'date': '16-06-2021 01:48'}\n",
            "10 16-06-2021 01:30 {'txt': '\\nCommodities Prices - Is the commodity bull market already losing steam?\\n\\t\\t\\tCommodities have put in a blistering performance over the past year. But – oil aside – the commodity bull market looks like it might have peaked. Dominic Frisby explains what’s going on.\\t\\t', 'url': 'http://www.forexrate.co.uk/Commodities-Prices---Is-the-commodity-bull-ma-news1623839080.html', 'date': '16-06-2021 01:30'}\n",
            "11 15-06-2021 03:05 {'txt': '\\nGold Price - Gold Price Today: Yellow metal trades flat as investors eye US Fed meet\\n\\t\\t\\tTrade can use the rally to sell in gold around 48700 with a stop loss of 48920 for the target of 48300 and in silver around 72200 with a stop loss of 72700 for the target of 71200, suggest experts.\\t\\t', 'url': 'http://www.forexrate.co.uk/Gold-Price---Gold-Price-Today--Yellow-metal-t-news1623752632.html', 'date': '15-06-2021 03:05'}\n",
            "12 15-06-2021 02:23 {'txt': '\\nEURUSD - US inflation doubts continue to affect the dollar\\n\\t\\t\\tDuring the first quarter of the year the trend in the dollar index was positive, but the months of April and May saw it lose 2.11% and 1.40% respectively.\\t\\t', 'url': 'http://www.forexrate.co.uk/EURUSD---US-inflation-doubts-continue-to-affe-news1623752618.html', 'date': '15-06-2021 02:23'}\n",
            "http://www.forexrate.co.uk/newsarchive.php?start=12\n",
            "13 14-06-2021 01:38 {'txt': '\\nCommodities Prices - Commodities Trading Services Market R & D including top key players Vitol Group, Glencore, Trafigura Group, Mercuria Energy Group\\n\\t\\t\\tAnnounced Commodities Trading Services study with 200+ market data Tables and Figures spread through Pages and easy to understand detailed TOC on “Global Commodities Trading Services Market. Global ...\\t\\t', 'url': 'http://www.forexrate.co.uk/Commodities-Prices---Commodities-Trading-Serv-news1623666204.html', 'date': '14-06-2021 01:38'}\n",
            "14 14-06-2021 01:17 {'txt': '\\nEURGBP - FOREX-Dollar stands tall in big week for FX markets\\n\\t\\t\\tIn the week ended June 8, speculators had ratcheted up net short positions NETUSDALL= to the highest in nearly three months at $18.35 billion. Caution ahead of the Fed meeting also pushed a Deutsche ...\\t\\t', 'url': 'http://www.forexrate.co.uk/EURGBP---FOREX-Dollar-stands-tall-in-big-week-news1623666201.html', 'date': '14-06-2021 01:17'}\n",
            "15 11-06-2021 03:07 {'txt': '\\nSilver Price - Gold Price Today: Yellow metal trades higher, spot gold reclaims $1,900\\n\\t\\t\\tBuy gold around Rs 49,050 with a stop loss of 48,800 for a target of 49,600 and silver around Rs 71,500 with a stop loss of 70,900 for a target of 73,100, say experts.\\t\\t', 'url': 'http://www.forexrate.co.uk/Silver-Price---Gold-Price-Today--Yellow-metal-news1623407000.html', 'date': '11-06-2021 03:07'}\n",
            "16 11-06-2021 02:35 {'txt': \"\\nUSDJPY - USD/JPY analysis: Remains below 109.60\\n\\t\\t\\tThe USD/JPY currency pair failed to break the resistance level at 109.70 on Thursday. As a result, the US Dollar declined by 43 pips or 0.39% against the Japanese Yen during Thursday's trading session ...\\t\\t\", 'url': 'http://www.forexrate.co.uk/USDJPY---USD-JPY-analysis--Remains-below-109--news1623406999.html', 'date': '11-06-2021 02:35'}\n",
            "17 10-06-2021 03:17 {'txt': '\\nOil Price - Canada’s Oil Industry Optimistic As Prices Rebound\\n\\t\\t\\tCanada’s oil and gas sector is growing increasingly optimistic about its near-term future as economies recover and oil prices rally. Yet, the industry faces growing challenges in the medium and long ...\\t\\t', 'url': 'http://www.forexrate.co.uk/Oil-Price---Canada---s-Oil-Industry-Optimisti-news1623320569.html', 'date': '10-06-2021 03:17'}\n",
            "18 10-06-2021 00:26 {'txt': '\\nGBPUSD - Forex technical analysis and forecast: Majors, equities and commodities\\n\\t\\t\\tEURUSD is still consolidating around 1.2178; after expanding the range up to 1.2214 and rebounding from this level, it is falling towards 1.2144. Today, the pair may break the latter level and then ...\\t\\t', 'url': 'http://www.forexrate.co.uk/GBPUSD---Forex-technical-analysis-and-forecas-news1623320557.html', 'date': '10-06-2021 00:26'}\n",
            "19 09-06-2021 03:16 {'txt': '\\nBrent Oil - A Peek Into The Markets: US Stock Futures Mostly Flat; Crude Oil Gains\\n\\t\\t\\tU.S. stock futures traded mostly flat in early pre-market trade after closing mixed in the prior session. Investors are awaiting earnings results from United Natural Foods Inc (NYSE: UNFI ), Campbell ...\\t\\t', 'url': 'http://www.forexrate.co.uk/Brent-Oil---A-Peek-Into-The-Markets--US-Stock-news1623234166.html', 'date': '09-06-2021 03:16'}\n",
            "20 09-06-2021 02:33 {'txt': '\\nEURUSD - FxWirePro- EURUSD Daily outlook\\n\\t\\t\\tSen- 1.21786 EURUSD is trading in a narrow range between 1.21450 and 1.22018 for the past two days. With no follow-through buying markets eyes ...\\t\\t', 'url': 'http://www.forexrate.co.uk/EURUSD---FxWirePro--EURUSD-Daily-outlook-news1623234164.html', 'date': '09-06-2021 02:33'}\n",
            "21 08-06-2021 03:00 {'txt': '\\nCommodities Prices - Asia Reflation Momentum Puts Commodities, Shipping Stocks on Top\\n\\t\\t\\tMeanwhile, the region’s shipping stocks are attracting investors as the global economic rebound spurs demand for products made in Asia and supply chain stresses send shipping ra ...\\t\\t', 'url': 'http://www.forexrate.co.uk/Commodities-Prices---Asia-Reflation-Momentum--news1623147745.html', 'date': '08-06-2021 03:00'}\n",
            "22 08-06-2021 00:44 {'txt': '\\nSilver Price - Silver Price Analysis: XAG/USD remains pledged to an overall bullish tone – DBS Bank\\n\\t\\t\\tNonetheless, in framing silver’s rise from March 2020’s 11.64 lows, XAG/USD still holds an inherent bullish bias unless it breaks under 23.81, Benjamin Wong, Strategist at DBS Bank, reports. Any ...\\t\\t', 'url': 'http://www.forexrate.co.uk/Silver-Price---Silver-Price-Analysis--XAG-USD-news1623147738.html', 'date': '08-06-2021 00:44'}\n",
            "23 07-06-2021 03:11 {'txt': '\\nCommodities Prices - Gold Price Remains Weak Despite the NFP Bounce\\n\\t\\t\\tGold price meets horizontal resistance ahead of the US inflation data later in the trading week. The market participants expect the CPI to grow by 0.4%.\\t\\t', 'url': 'http://www.forexrate.co.uk/Commodities-Prices---Gold-Price-Remains-Weak--news1623061291.html', 'date': '07-06-2021 03:11'}\n",
            "24 07-06-2021 02:50 {'txt': '\\nEURUSD - Euro-Dollar Near-Term Forecast: 1.2051 Possible\\n\\t\\t\\t\"EUR-USD is still trading below 1.22, indicating that investors remain prudent about riding a more sustained appreciation of the common currency or a decline of the greenback, and that they are ...\\t\\t', 'url': 'http://www.forexrate.co.uk/EURUSD---Euro-Dollar-Near-Term-Forecast--1-20-news1623061293.html', 'date': '07-06-2021 02:50'}\n",
            "http://www.forexrate.co.uk/newsarchive.php?start=24\n",
            "25 04-06-2021 03:02 {'txt': '\\nCrude Oil - Special: Crude Oil Price Low Yet Petrol Price High\\n\\t\\t\\tGujarat: Liquor mafia celebrated birthday on road, video went viral ...\\t\\t', 'url': 'http://www.forexrate.co.uk/Crude-Oil---Special--Crude-Oil-Price-Low-Yet--news1622802165.html', 'date': '04-06-2021 03:02'}\n",
            "26 04-06-2021 02:30 {'txt': '\\nEURGBP - Morning round up: With an emphasis on EUR/GBP [Video]\\n\\t\\t\\tEURGBP is approaching some support and could be the favoured play today with GBP close to a previous swing high that has to hold. Note: All information on this page is subject to change. The use of ...\\t\\t', 'url': 'http://www.forexrate.co.uk/EURGBP---Morning-round-up--With-an-emphasis-o-news1622802163.html', 'date': '04-06-2021 02:30'}\n",
            "27 03-06-2021 03:12 {'txt': '\\nSilver Price - Silver Price Analysis: XAG/USD hangs near weekly lows, below $28.00 mark\\n\\t\\t\\tSilver witnessed some fresh selling on Thursday and erased the previous day’s modest gains. The range-bound price action constitutes the formation of a rectangle on short-term charts. Mixed technical ...\\t\\t', 'url': 'http://www.forexrate.co.uk/Silver-Price---Silver-Price-Analysis--XAG-USD-news1622715646.html', 'date': '03-06-2021 03:12'}\n",
            "28 03-06-2021 02:35 {'txt': '\\nGBPUSD - Sterling Consolidates, Pound To Dollar Rate Held Below 3-Year Highs\\n\\t\\t\\tDollar Consolidates Ahead of Crucial Jobs Report; Central Bank Rhetoric Dominates Markets; UK Coronavirus Developments Watched Closely; Currency markets have been held in tight ra ...\\t\\t', 'url': 'http://www.forexrate.co.uk/GBPUSD---Sterling-Consolidates--Pound-To-Doll-news1622715641.html', 'date': '03-06-2021 02:35'}\n",
            "29 02-06-2021 03:16 {'txt': '\\nCommodities Prices - Gold Price Today: Yellow metal trades lacklustre; experts say buy on dips around Rs 49,180\\n\\t\\t\\tGold and silver had shown strong volatility in the previous session as better than expected US ISM manufacturing PMI data triggered profit-taking in both precious metals at higher levels.\\t\\t', 'url': 'http://www.forexrate.co.uk/Commodities-Prices---Gold-Price-Today--Yellow-news1622629393.html', 'date': '02-06-2021 03:16'}\n",
            "30 02-06-2021 03:10 {'txt': '\\nSilver Price - Limited edition \"Flash Silver\" OnePlus 9 Pro revealed; take a look\\n\\t\\t\\tThe OnePlus 9 Pro Flash Silver Limited Edition focuses on all things silver and the company will make only 1,500 units.\\t\\t', 'url': 'http://www.forexrate.co.uk/Silver-Price---Limited-edition--Flash-Silver--news1622629379.html', 'date': '02-06-2021 03:10'}\n",
            "31 01-06-2021 03:16 {'txt': '\\nOil Price - Eurozone inflation rebounds to 2.0% on higher energy prices\\n\\t\\t\\tEurozone inflation rose to 2.0% in May, driven higher by rising oil prices as other inflationary pressures appeared to ...\\t\\t', 'url': 'http://www.forexrate.co.uk/Oil-Price---Eurozone-inflation-rebounds-to-2--news1622542997.html', 'date': '01-06-2021 03:16'}\n",
            "32 01-06-2021 02:58 {'txt': '\\nUSDJPY - EUR/USD and GBP/USD move up as USD/JPY drops back\\n\\t\\t\\tA weaker dollar continues to lift EUR/USD and GBP/USD while putting USD/JPY on the back foot. EUR/USD continues to hold above $1.22 and is still on an upward path. It recovered from Friday’s losses, ...\\t\\t', 'url': 'http://www.forexrate.co.uk/USDJPY---EUR-USD-and-GBP-USD-move-up-as-USD-J-news1622542999.html', 'date': '01-06-2021 02:58'}\n",
            "33 31-05-2021 02:32 {'txt': '\\nGBPUSD - Trading USD/CAD on the Nonfarm Payrolls, trading WTI on OPEC+ meeting\\n\\t\\t\\tAt the end of this video we have posted a link to our video on Trading Economic News. We are still seeing AUD weakness against all other currencies and we may have an opportunity, just like we had ...\\t\\t', 'url': 'http://www.forexrate.co.uk/GBPUSD---Trading-USD-CAD-on-the-Nonfarm-Payro-news1622456598.html', 'date': '31-05-2021 02:32'}\n",
            "34 31-05-2021 02:30 {'txt': '\\nEURUSD - FxWirePro- EURUSD Daily outlook\\n\\t\\t\\tSen- 1.21688 EURUSD recovered from a low of 1.21328 despite strong US data. US core PCE surged to 3.1% y/y vs forecast of 2.9%. The monthly ...\\t\\t', 'url': 'http://www.forexrate.co.uk/EURUSD---FxWirePro--EURUSD-Daily-outlook-news1622456595.html', 'date': '31-05-2021 02:30'}\n",
            "35 28-05-2021 02:00 {'txt': \"\\nCommodities Prices - Chinese lithium giant Tianqi buoyed by rising commodity prices\\n\\t\\t\\tOne of the world's top lithium producers risked a massive default last year, but rising lithium prices are bringing reprieve.\\t\\t\", 'url': 'http://www.forexrate.co.uk/Commodities-Prices---Chinese-lithium-giant-Ti-news1622197294.html', 'date': '28-05-2021 02:00'}\n",
            "36 28-05-2021 01:34 {'txt': \"\\nCrude Oil - How will China's latest oil probe affect the world's biggest crude importer?\\n\\t\\t\\tThis year China's government has been gradually ramping up scrutiny of its sprawling oil industry, reinforcing its authority with new taxes on refined ...\\t\\t\", 'url': 'http://www.forexrate.co.uk/Crude-Oil---How-will-China-s-latest-oil-probe-news1622197292.html', 'date': '28-05-2021 01:34'}\n",
            "http://www.forexrate.co.uk/newsarchive.php?start=36\n",
            "37 27-05-2021 02:11 {'txt': \"\\nOil Price - Oil Takes Breather, Gold Dips Below 1900\\n\\t\\t\\tCommodities Analysis by MarketPulse (Jeffrey Halley) covering: XAU/USD, Gold Futures, Brent Oil Futures, Crude Oil WTI Futures. Read MarketPulse (Jeffrey Halley)'s latest article on Investing.com ...\\t\\t\", 'url': 'http://www.forexrate.co.uk/Oil-Price---Oil-Takes-Breather--Gold-Dips-Bel-news1622111078.html', 'date': '27-05-2021 02:11'}\n"
          ],
          "name": "stdout"
        },
        {
          "output_type": "error",
          "ename": "KeyboardInterrupt",
          "evalue": "ignored",
          "traceback": [
            "\u001b[0;31m---------------------------------------------------------------------------\u001b[0m",
            "\u001b[0;31mTypeError\u001b[0m                                 Traceback (most recent call last)",
            "\u001b[0;32m/usr/local/lib/python3.7/dist-packages/urllib3/connectionpool.py\u001b[0m in \u001b[0;36m_make_request\u001b[0;34m(self, conn, method, url, timeout, chunked, **httplib_request_kw)\u001b[0m\n\u001b[1;32m    376\u001b[0m             \u001b[0;32mtry\u001b[0m\u001b[0;34m:\u001b[0m  \u001b[0;31m# Python 2.7, use buffering of HTTP responses\u001b[0m\u001b[0;34m\u001b[0m\u001b[0;34m\u001b[0m\u001b[0m\n\u001b[0;32m--> 377\u001b[0;31m                 \u001b[0mhttplib_response\u001b[0m \u001b[0;34m=\u001b[0m \u001b[0mconn\u001b[0m\u001b[0;34m.\u001b[0m\u001b[0mgetresponse\u001b[0m\u001b[0;34m(\u001b[0m\u001b[0mbuffering\u001b[0m\u001b[0;34m=\u001b[0m\u001b[0;32mTrue\u001b[0m\u001b[0;34m)\u001b[0m\u001b[0;34m\u001b[0m\u001b[0;34m\u001b[0m\u001b[0m\n\u001b[0m\u001b[1;32m    378\u001b[0m             \u001b[0;32mexcept\u001b[0m \u001b[0mTypeError\u001b[0m\u001b[0;34m:\u001b[0m  \u001b[0;31m# Python 3\u001b[0m\u001b[0;34m\u001b[0m\u001b[0;34m\u001b[0m\u001b[0m\n",
            "\u001b[0;31mTypeError\u001b[0m: getresponse() got an unexpected keyword argument 'buffering'",
            "\nDuring handling of the above exception, another exception occurred:\n",
            "\u001b[0;31mKeyboardInterrupt\u001b[0m                         Traceback (most recent call last)",
            "\u001b[0;32m<ipython-input-45-26996eaa8b8d>\u001b[0m in \u001b[0;36m<module>\u001b[0;34m()\u001b[0m\n\u001b[1;32m     34\u001b[0m         \u001b[0;32mcontinue\u001b[0m\u001b[0;34m\u001b[0m\u001b[0;34m\u001b[0m\u001b[0m\n\u001b[1;32m     35\u001b[0m       \u001b[0;31m# let's get the date of the article\u001b[0m\u001b[0;34m\u001b[0m\u001b[0;34m\u001b[0m\u001b[0;34m\u001b[0m\u001b[0m\n\u001b[0;32m---> 36\u001b[0;31m       \u001b[0mdate_page\u001b[0m \u001b[0;34m=\u001b[0m \u001b[0mrequests\u001b[0m\u001b[0;34m.\u001b[0m\u001b[0mget\u001b[0m\u001b[0;34m(\u001b[0m\u001b[0mhref\u001b[0m\u001b[0;34m)\u001b[0m\u001b[0;34m\u001b[0m\u001b[0;34m\u001b[0m\u001b[0m\n\u001b[0m\u001b[1;32m     37\u001b[0m       \u001b[0mdate_soup\u001b[0m \u001b[0;34m=\u001b[0m \u001b[0mBeautifulSoup\u001b[0m\u001b[0;34m(\u001b[0m\u001b[0mdate_page\u001b[0m\u001b[0;34m.\u001b[0m\u001b[0mcontent\u001b[0m\u001b[0;34m,\u001b[0m \u001b[0;34m'html.parser'\u001b[0m\u001b[0;34m)\u001b[0m\u001b[0;34m\u001b[0m\u001b[0;34m\u001b[0m\u001b[0m\n\u001b[1;32m     38\u001b[0m       \u001b[0mdate_div\u001b[0m \u001b[0;34m=\u001b[0m \u001b[0mdate_soup\u001b[0m\u001b[0;34m.\u001b[0m\u001b[0mfindChildren\u001b[0m\u001b[0;34m(\u001b[0m\u001b[0;34m'div'\u001b[0m\u001b[0;34m)\u001b[0m\u001b[0;34m[\u001b[0m\u001b[0;36m3\u001b[0m\u001b[0;34m]\u001b[0m\u001b[0;34m\u001b[0m\u001b[0;34m\u001b[0m\u001b[0m\n",
            "\u001b[0;32m/usr/local/lib/python3.7/dist-packages/requests/api.py\u001b[0m in \u001b[0;36mget\u001b[0;34m(url, params, **kwargs)\u001b[0m\n\u001b[1;32m     74\u001b[0m \u001b[0;34m\u001b[0m\u001b[0m\n\u001b[1;32m     75\u001b[0m     \u001b[0mkwargs\u001b[0m\u001b[0;34m.\u001b[0m\u001b[0msetdefault\u001b[0m\u001b[0;34m(\u001b[0m\u001b[0;34m'allow_redirects'\u001b[0m\u001b[0;34m,\u001b[0m \u001b[0;32mTrue\u001b[0m\u001b[0;34m)\u001b[0m\u001b[0;34m\u001b[0m\u001b[0;34m\u001b[0m\u001b[0m\n\u001b[0;32m---> 76\u001b[0;31m     \u001b[0;32mreturn\u001b[0m \u001b[0mrequest\u001b[0m\u001b[0;34m(\u001b[0m\u001b[0;34m'get'\u001b[0m\u001b[0;34m,\u001b[0m \u001b[0murl\u001b[0m\u001b[0;34m,\u001b[0m \u001b[0mparams\u001b[0m\u001b[0;34m=\u001b[0m\u001b[0mparams\u001b[0m\u001b[0;34m,\u001b[0m \u001b[0;34m**\u001b[0m\u001b[0mkwargs\u001b[0m\u001b[0;34m)\u001b[0m\u001b[0;34m\u001b[0m\u001b[0;34m\u001b[0m\u001b[0m\n\u001b[0m\u001b[1;32m     77\u001b[0m \u001b[0;34m\u001b[0m\u001b[0m\n\u001b[1;32m     78\u001b[0m \u001b[0;34m\u001b[0m\u001b[0m\n",
            "\u001b[0;32m/usr/local/lib/python3.7/dist-packages/requests/api.py\u001b[0m in \u001b[0;36mrequest\u001b[0;34m(method, url, **kwargs)\u001b[0m\n\u001b[1;32m     59\u001b[0m     \u001b[0;31m# cases, and look like a memory leak in others.\u001b[0m\u001b[0;34m\u001b[0m\u001b[0;34m\u001b[0m\u001b[0;34m\u001b[0m\u001b[0m\n\u001b[1;32m     60\u001b[0m     \u001b[0;32mwith\u001b[0m \u001b[0msessions\u001b[0m\u001b[0;34m.\u001b[0m\u001b[0mSession\u001b[0m\u001b[0;34m(\u001b[0m\u001b[0;34m)\u001b[0m \u001b[0;32mas\u001b[0m \u001b[0msession\u001b[0m\u001b[0;34m:\u001b[0m\u001b[0;34m\u001b[0m\u001b[0;34m\u001b[0m\u001b[0m\n\u001b[0;32m---> 61\u001b[0;31m         \u001b[0;32mreturn\u001b[0m \u001b[0msession\u001b[0m\u001b[0;34m.\u001b[0m\u001b[0mrequest\u001b[0m\u001b[0;34m(\u001b[0m\u001b[0mmethod\u001b[0m\u001b[0;34m=\u001b[0m\u001b[0mmethod\u001b[0m\u001b[0;34m,\u001b[0m \u001b[0murl\u001b[0m\u001b[0;34m=\u001b[0m\u001b[0murl\u001b[0m\u001b[0;34m,\u001b[0m \u001b[0;34m**\u001b[0m\u001b[0mkwargs\u001b[0m\u001b[0;34m)\u001b[0m\u001b[0;34m\u001b[0m\u001b[0;34m\u001b[0m\u001b[0m\n\u001b[0m\u001b[1;32m     62\u001b[0m \u001b[0;34m\u001b[0m\u001b[0m\n\u001b[1;32m     63\u001b[0m \u001b[0;34m\u001b[0m\u001b[0m\n",
            "\u001b[0;32m/usr/local/lib/python3.7/dist-packages/requests/sessions.py\u001b[0m in \u001b[0;36mrequest\u001b[0;34m(self, method, url, params, data, headers, cookies, files, auth, timeout, allow_redirects, proxies, hooks, stream, verify, cert, json)\u001b[0m\n\u001b[1;32m    528\u001b[0m         }\n\u001b[1;32m    529\u001b[0m         \u001b[0msend_kwargs\u001b[0m\u001b[0;34m.\u001b[0m\u001b[0mupdate\u001b[0m\u001b[0;34m(\u001b[0m\u001b[0msettings\u001b[0m\u001b[0;34m)\u001b[0m\u001b[0;34m\u001b[0m\u001b[0;34m\u001b[0m\u001b[0m\n\u001b[0;32m--> 530\u001b[0;31m         \u001b[0mresp\u001b[0m \u001b[0;34m=\u001b[0m \u001b[0mself\u001b[0m\u001b[0;34m.\u001b[0m\u001b[0msend\u001b[0m\u001b[0;34m(\u001b[0m\u001b[0mprep\u001b[0m\u001b[0;34m,\u001b[0m \u001b[0;34m**\u001b[0m\u001b[0msend_kwargs\u001b[0m\u001b[0;34m)\u001b[0m\u001b[0;34m\u001b[0m\u001b[0;34m\u001b[0m\u001b[0m\n\u001b[0m\u001b[1;32m    531\u001b[0m \u001b[0;34m\u001b[0m\u001b[0m\n\u001b[1;32m    532\u001b[0m         \u001b[0;32mreturn\u001b[0m \u001b[0mresp\u001b[0m\u001b[0;34m\u001b[0m\u001b[0;34m\u001b[0m\u001b[0m\n",
            "\u001b[0;32m/usr/local/lib/python3.7/dist-packages/requests/sessions.py\u001b[0m in \u001b[0;36msend\u001b[0;34m(self, request, **kwargs)\u001b[0m\n\u001b[1;32m    641\u001b[0m \u001b[0;34m\u001b[0m\u001b[0m\n\u001b[1;32m    642\u001b[0m         \u001b[0;31m# Send the request\u001b[0m\u001b[0;34m\u001b[0m\u001b[0;34m\u001b[0m\u001b[0;34m\u001b[0m\u001b[0m\n\u001b[0;32m--> 643\u001b[0;31m         \u001b[0mr\u001b[0m \u001b[0;34m=\u001b[0m \u001b[0madapter\u001b[0m\u001b[0;34m.\u001b[0m\u001b[0msend\u001b[0m\u001b[0;34m(\u001b[0m\u001b[0mrequest\u001b[0m\u001b[0;34m,\u001b[0m \u001b[0;34m**\u001b[0m\u001b[0mkwargs\u001b[0m\u001b[0;34m)\u001b[0m\u001b[0;34m\u001b[0m\u001b[0;34m\u001b[0m\u001b[0m\n\u001b[0m\u001b[1;32m    644\u001b[0m \u001b[0;34m\u001b[0m\u001b[0m\n\u001b[1;32m    645\u001b[0m         \u001b[0;31m# Total elapsed time of the request (approximately)\u001b[0m\u001b[0;34m\u001b[0m\u001b[0;34m\u001b[0m\u001b[0;34m\u001b[0m\u001b[0m\n",
            "\u001b[0;32m/usr/local/lib/python3.7/dist-packages/requests/adapters.py\u001b[0m in \u001b[0;36msend\u001b[0;34m(self, request, stream, timeout, verify, cert, proxies)\u001b[0m\n\u001b[1;32m    447\u001b[0m                     \u001b[0mdecode_content\u001b[0m\u001b[0;34m=\u001b[0m\u001b[0;32mFalse\u001b[0m\u001b[0;34m,\u001b[0m\u001b[0;34m\u001b[0m\u001b[0;34m\u001b[0m\u001b[0m\n\u001b[1;32m    448\u001b[0m                     \u001b[0mretries\u001b[0m\u001b[0;34m=\u001b[0m\u001b[0mself\u001b[0m\u001b[0;34m.\u001b[0m\u001b[0mmax_retries\u001b[0m\u001b[0;34m,\u001b[0m\u001b[0;34m\u001b[0m\u001b[0;34m\u001b[0m\u001b[0m\n\u001b[0;32m--> 449\u001b[0;31m                     \u001b[0mtimeout\u001b[0m\u001b[0;34m=\u001b[0m\u001b[0mtimeout\u001b[0m\u001b[0;34m\u001b[0m\u001b[0;34m\u001b[0m\u001b[0m\n\u001b[0m\u001b[1;32m    450\u001b[0m                 )\n\u001b[1;32m    451\u001b[0m \u001b[0;34m\u001b[0m\u001b[0m\n",
            "\u001b[0;32m/usr/local/lib/python3.7/dist-packages/urllib3/connectionpool.py\u001b[0m in \u001b[0;36murlopen\u001b[0;34m(self, method, url, body, headers, retries, redirect, assert_same_host, timeout, pool_timeout, release_conn, chunked, body_pos, **response_kw)\u001b[0m\n\u001b[1;32m    598\u001b[0m                                                   \u001b[0mtimeout\u001b[0m\u001b[0;34m=\u001b[0m\u001b[0mtimeout_obj\u001b[0m\u001b[0;34m,\u001b[0m\u001b[0;34m\u001b[0m\u001b[0;34m\u001b[0m\u001b[0m\n\u001b[1;32m    599\u001b[0m                                                   \u001b[0mbody\u001b[0m\u001b[0;34m=\u001b[0m\u001b[0mbody\u001b[0m\u001b[0;34m,\u001b[0m \u001b[0mheaders\u001b[0m\u001b[0;34m=\u001b[0m\u001b[0mheaders\u001b[0m\u001b[0;34m,\u001b[0m\u001b[0;34m\u001b[0m\u001b[0;34m\u001b[0m\u001b[0m\n\u001b[0;32m--> 600\u001b[0;31m                                                   chunked=chunked)\n\u001b[0m\u001b[1;32m    601\u001b[0m \u001b[0;34m\u001b[0m\u001b[0m\n\u001b[1;32m    602\u001b[0m             \u001b[0;31m# If we're going to release the connection in ``finally:``, then\u001b[0m\u001b[0;34m\u001b[0m\u001b[0;34m\u001b[0m\u001b[0;34m\u001b[0m\u001b[0m\n",
            "\u001b[0;32m/usr/local/lib/python3.7/dist-packages/urllib3/connectionpool.py\u001b[0m in \u001b[0;36m_make_request\u001b[0;34m(self, conn, method, url, timeout, chunked, **httplib_request_kw)\u001b[0m\n\u001b[1;32m    378\u001b[0m             \u001b[0;32mexcept\u001b[0m \u001b[0mTypeError\u001b[0m\u001b[0;34m:\u001b[0m  \u001b[0;31m# Python 3\u001b[0m\u001b[0;34m\u001b[0m\u001b[0;34m\u001b[0m\u001b[0m\n\u001b[1;32m    379\u001b[0m                 \u001b[0;32mtry\u001b[0m\u001b[0;34m:\u001b[0m\u001b[0;34m\u001b[0m\u001b[0;34m\u001b[0m\u001b[0m\n\u001b[0;32m--> 380\u001b[0;31m                     \u001b[0mhttplib_response\u001b[0m \u001b[0;34m=\u001b[0m \u001b[0mconn\u001b[0m\u001b[0;34m.\u001b[0m\u001b[0mgetresponse\u001b[0m\u001b[0;34m(\u001b[0m\u001b[0;34m)\u001b[0m\u001b[0;34m\u001b[0m\u001b[0;34m\u001b[0m\u001b[0m\n\u001b[0m\u001b[1;32m    381\u001b[0m                 \u001b[0;32mexcept\u001b[0m \u001b[0mException\u001b[0m \u001b[0;32mas\u001b[0m \u001b[0me\u001b[0m\u001b[0;34m:\u001b[0m\u001b[0;34m\u001b[0m\u001b[0;34m\u001b[0m\u001b[0m\n\u001b[1;32m    382\u001b[0m                     \u001b[0;31m# Remove the TypeError from the exception chain in Python 3;\u001b[0m\u001b[0;34m\u001b[0m\u001b[0;34m\u001b[0m\u001b[0;34m\u001b[0m\u001b[0m\n",
            "\u001b[0;32m/usr/lib/python3.7/http/client.py\u001b[0m in \u001b[0;36mgetresponse\u001b[0;34m(self)\u001b[0m\n\u001b[1;32m   1367\u001b[0m         \u001b[0;32mtry\u001b[0m\u001b[0;34m:\u001b[0m\u001b[0;34m\u001b[0m\u001b[0;34m\u001b[0m\u001b[0m\n\u001b[1;32m   1368\u001b[0m             \u001b[0;32mtry\u001b[0m\u001b[0;34m:\u001b[0m\u001b[0;34m\u001b[0m\u001b[0;34m\u001b[0m\u001b[0m\n\u001b[0;32m-> 1369\u001b[0;31m                 \u001b[0mresponse\u001b[0m\u001b[0;34m.\u001b[0m\u001b[0mbegin\u001b[0m\u001b[0;34m(\u001b[0m\u001b[0;34m)\u001b[0m\u001b[0;34m\u001b[0m\u001b[0;34m\u001b[0m\u001b[0m\n\u001b[0m\u001b[1;32m   1370\u001b[0m             \u001b[0;32mexcept\u001b[0m \u001b[0mConnectionError\u001b[0m\u001b[0;34m:\u001b[0m\u001b[0;34m\u001b[0m\u001b[0;34m\u001b[0m\u001b[0m\n\u001b[1;32m   1371\u001b[0m                 \u001b[0mself\u001b[0m\u001b[0;34m.\u001b[0m\u001b[0mclose\u001b[0m\u001b[0;34m(\u001b[0m\u001b[0;34m)\u001b[0m\u001b[0;34m\u001b[0m\u001b[0;34m\u001b[0m\u001b[0m\n",
            "\u001b[0;32m/usr/lib/python3.7/http/client.py\u001b[0m in \u001b[0;36mbegin\u001b[0;34m(self)\u001b[0m\n\u001b[1;32m    308\u001b[0m         \u001b[0;31m# read until we get a non-100 response\u001b[0m\u001b[0;34m\u001b[0m\u001b[0;34m\u001b[0m\u001b[0;34m\u001b[0m\u001b[0m\n\u001b[1;32m    309\u001b[0m         \u001b[0;32mwhile\u001b[0m \u001b[0;32mTrue\u001b[0m\u001b[0;34m:\u001b[0m\u001b[0;34m\u001b[0m\u001b[0;34m\u001b[0m\u001b[0m\n\u001b[0;32m--> 310\u001b[0;31m             \u001b[0mversion\u001b[0m\u001b[0;34m,\u001b[0m \u001b[0mstatus\u001b[0m\u001b[0;34m,\u001b[0m \u001b[0mreason\u001b[0m \u001b[0;34m=\u001b[0m \u001b[0mself\u001b[0m\u001b[0;34m.\u001b[0m\u001b[0m_read_status\u001b[0m\u001b[0;34m(\u001b[0m\u001b[0;34m)\u001b[0m\u001b[0;34m\u001b[0m\u001b[0;34m\u001b[0m\u001b[0m\n\u001b[0m\u001b[1;32m    311\u001b[0m             \u001b[0;32mif\u001b[0m \u001b[0mstatus\u001b[0m \u001b[0;34m!=\u001b[0m \u001b[0mCONTINUE\u001b[0m\u001b[0;34m:\u001b[0m\u001b[0;34m\u001b[0m\u001b[0;34m\u001b[0m\u001b[0m\n\u001b[1;32m    312\u001b[0m                 \u001b[0;32mbreak\u001b[0m\u001b[0;34m\u001b[0m\u001b[0;34m\u001b[0m\u001b[0m\n",
            "\u001b[0;32m/usr/lib/python3.7/http/client.py\u001b[0m in \u001b[0;36m_read_status\u001b[0;34m(self)\u001b[0m\n\u001b[1;32m    269\u001b[0m \u001b[0;34m\u001b[0m\u001b[0m\n\u001b[1;32m    270\u001b[0m     \u001b[0;32mdef\u001b[0m \u001b[0m_read_status\u001b[0m\u001b[0;34m(\u001b[0m\u001b[0mself\u001b[0m\u001b[0;34m)\u001b[0m\u001b[0;34m:\u001b[0m\u001b[0;34m\u001b[0m\u001b[0;34m\u001b[0m\u001b[0m\n\u001b[0;32m--> 271\u001b[0;31m         \u001b[0mline\u001b[0m \u001b[0;34m=\u001b[0m \u001b[0mstr\u001b[0m\u001b[0;34m(\u001b[0m\u001b[0mself\u001b[0m\u001b[0;34m.\u001b[0m\u001b[0mfp\u001b[0m\u001b[0;34m.\u001b[0m\u001b[0mreadline\u001b[0m\u001b[0;34m(\u001b[0m\u001b[0m_MAXLINE\u001b[0m \u001b[0;34m+\u001b[0m \u001b[0;36m1\u001b[0m\u001b[0;34m)\u001b[0m\u001b[0;34m,\u001b[0m \u001b[0;34m\"iso-8859-1\"\u001b[0m\u001b[0;34m)\u001b[0m\u001b[0;34m\u001b[0m\u001b[0;34m\u001b[0m\u001b[0m\n\u001b[0m\u001b[1;32m    272\u001b[0m         \u001b[0;32mif\u001b[0m \u001b[0mlen\u001b[0m\u001b[0;34m(\u001b[0m\u001b[0mline\u001b[0m\u001b[0;34m)\u001b[0m \u001b[0;34m>\u001b[0m \u001b[0m_MAXLINE\u001b[0m\u001b[0;34m:\u001b[0m\u001b[0;34m\u001b[0m\u001b[0;34m\u001b[0m\u001b[0m\n\u001b[1;32m    273\u001b[0m             \u001b[0;32mraise\u001b[0m \u001b[0mLineTooLong\u001b[0m\u001b[0;34m(\u001b[0m\u001b[0;34m\"status line\"\u001b[0m\u001b[0;34m)\u001b[0m\u001b[0;34m\u001b[0m\u001b[0;34m\u001b[0m\u001b[0m\n",
            "\u001b[0;32m/usr/lib/python3.7/socket.py\u001b[0m in \u001b[0;36mreadinto\u001b[0;34m(self, b)\u001b[0m\n\u001b[1;32m    587\u001b[0m         \u001b[0;32mwhile\u001b[0m \u001b[0;32mTrue\u001b[0m\u001b[0;34m:\u001b[0m\u001b[0;34m\u001b[0m\u001b[0;34m\u001b[0m\u001b[0m\n\u001b[1;32m    588\u001b[0m             \u001b[0;32mtry\u001b[0m\u001b[0;34m:\u001b[0m\u001b[0;34m\u001b[0m\u001b[0;34m\u001b[0m\u001b[0m\n\u001b[0;32m--> 589\u001b[0;31m                 \u001b[0;32mreturn\u001b[0m \u001b[0mself\u001b[0m\u001b[0;34m.\u001b[0m\u001b[0m_sock\u001b[0m\u001b[0;34m.\u001b[0m\u001b[0mrecv_into\u001b[0m\u001b[0;34m(\u001b[0m\u001b[0mb\u001b[0m\u001b[0;34m)\u001b[0m\u001b[0;34m\u001b[0m\u001b[0;34m\u001b[0m\u001b[0m\n\u001b[0m\u001b[1;32m    590\u001b[0m             \u001b[0;32mexcept\u001b[0m \u001b[0mtimeout\u001b[0m\u001b[0;34m:\u001b[0m\u001b[0;34m\u001b[0m\u001b[0;34m\u001b[0m\u001b[0m\n\u001b[1;32m    591\u001b[0m                 \u001b[0mself\u001b[0m\u001b[0;34m.\u001b[0m\u001b[0m_timeout_occurred\u001b[0m \u001b[0;34m=\u001b[0m \u001b[0;32mTrue\u001b[0m\u001b[0;34m\u001b[0m\u001b[0;34m\u001b[0m\u001b[0m\n",
            "\u001b[0;31mKeyboardInterrupt\u001b[0m: "
          ]
        }
      ]
    },
    {
      "cell_type": "code",
      "metadata": {
        "id": "uD9jS0HYWRrY"
      },
      "source": [
        "#!wget --directory-prefix=assets 'https://doc-08-1s-docs.googleusercontent.com/docs/securesc/gorbod9c68e2k2b6dmkv5ks0k9p9js8l/leld0p7kfh7s4j87nqpjosfvh2u53qrb/1624291800000/06099204812823034457/06914091963176412087/1bkFj9rnEBDifyjXiCg52n2vLjEzE-6mK?e=download&authuser=0&nonce=0748drkcir0e8&user=06914091963176412087&hash=90c4oegldfieidb1g5elboeo9nfk83nl'"
      ],
      "execution_count": null,
      "outputs": []
    },
    {
      "cell_type": "code",
      "metadata": {
        "id": "Tq7QzL4MVwza"
      },
      "source": [
        "fx = pd.read_csv(\"/content/drive/MyDrive/hist_fx.csv\")"
      ],
      "execution_count": null,
      "outputs": []
    },
    {
      "cell_type": "code",
      "metadata": {
        "id": "ihRfvqV9Yn8a",
        "colab": {
          "base_uri": "https://localhost:8080/",
          "height": 204
        },
        "outputId": "33a4431d-8880-4bf8-8e93-2d0d9e5ceec3"
      },
      "source": [
        "fx.head()"
      ],
      "execution_count": null,
      "outputs": [
        {
          "output_type": "execute_result",
          "data": {
            "text/html": [
              "<div>\n",
              "<style scoped>\n",
              "    .dataframe tbody tr th:only-of-type {\n",
              "        vertical-align: middle;\n",
              "    }\n",
              "\n",
              "    .dataframe tbody tr th {\n",
              "        vertical-align: top;\n",
              "    }\n",
              "\n",
              "    .dataframe thead th {\n",
              "        text-align: right;\n",
              "    }\n",
              "</style>\n",
              "<table border=\"1\" class=\"dataframe\">\n",
              "  <thead>\n",
              "    <tr style=\"text-align: right;\">\n",
              "      <th></th>\n",
              "      <th>txt</th>\n",
              "      <th>url</th>\n",
              "      <th>date</th>\n",
              "    </tr>\n",
              "  </thead>\n",
              "  <tbody>\n",
              "    <tr>\n",
              "      <th>0</th>\n",
              "      <td>\\nOil Price - Nigeria: Rising Oil Prices Will ...</td>\n",
              "      <td>http://www.forexrate.co.uk/Oil-Price---Nigeria...</td>\n",
              "      <td>18-06-2021 02:47</td>\n",
              "    </tr>\n",
              "    <tr>\n",
              "      <th>1</th>\n",
              "      <td>\\nGold Price - Gold Price Today: Yellow metal ...</td>\n",
              "      <td>http://www.forexrate.co.uk/Gold-Price---Gold-P...</td>\n",
              "      <td>18-06-2021 02:41</td>\n",
              "    </tr>\n",
              "    <tr>\n",
              "      <th>2</th>\n",
              "      <td>\\nBrent Oil - Oil Near $72 as Investors Size U...</td>\n",
              "      <td>http://www.forexrate.co.uk/Brent-Oil---Oil-Nea...</td>\n",
              "      <td>17-06-2021 02:46</td>\n",
              "    </tr>\n",
              "    <tr>\n",
              "      <th>3</th>\n",
              "      <td>\\nGBPUSD - FxWirePro- GBPJPY Daily Outlook\\n\\t...</td>\n",
              "      <td>http://www.forexrate.co.uk/GBPUSD---FxWirePro-...</td>\n",
              "      <td>17-06-2021 00:48</td>\n",
              "    </tr>\n",
              "    <tr>\n",
              "      <th>4</th>\n",
              "      <td>\\nEURGBP - Sterling ticks higher on surprise i...</td>\n",
              "      <td>http://www.forexrate.co.uk/EURGBP---Sterling-t...</td>\n",
              "      <td>16-06-2021 01:48</td>\n",
              "    </tr>\n",
              "  </tbody>\n",
              "</table>\n",
              "</div>"
            ],
            "text/plain": [
              "                                                 txt  ...              date\n",
              "0  \\nOil Price - Nigeria: Rising Oil Prices Will ...  ...  18-06-2021 02:47\n",
              "1  \\nGold Price - Gold Price Today: Yellow metal ...  ...  18-06-2021 02:41\n",
              "2  \\nBrent Oil - Oil Near $72 as Investors Size U...  ...  17-06-2021 02:46\n",
              "3  \\nGBPUSD - FxWirePro- GBPJPY Daily Outlook\\n\\t...  ...  17-06-2021 00:48\n",
              "4  \\nEURGBP - Sterling ticks higher on surprise i...  ...  16-06-2021 01:48\n",
              "\n",
              "[5 rows x 3 columns]"
            ]
          },
          "metadata": {
            "tags": []
          },
          "execution_count": 116
        }
      ]
    },
    {
      "cell_type": "code",
      "metadata": {
        "id": "TvDo6f12WGy-"
      },
      "source": [
        "fx_ = []\n",
        "for line in fx['txt']:\n",
        "  fx_.append(line[1:])"
      ],
      "execution_count": null,
      "outputs": []
    },
    {
      "cell_type": "code",
      "metadata": {
        "id": "fQyFgu-uX9NB"
      },
      "source": [
        "fx = pd.DataFrame({'txt': fx_, 'date':fx['date']})"
      ],
      "execution_count": null,
      "outputs": []
    },
    {
      "cell_type": "code",
      "metadata": {
        "id": "f6sreMMjZS-a"
      },
      "source": [
        "# ZERO means negative, ONE means neutral and TWO means positive :(\n",
        "sentiments = []\n",
        "for doc in nlp.pipe(fx['txt']):\n",
        "  pred = doc.cats\n",
        "  vals = [pred['positive'], pred['negative'], pred['neutral']]\n",
        "  prediction = np.argmax(vals)\n",
        "  sentiments.append(prediction)"
      ],
      "execution_count": null,
      "outputs": []
    },
    {
      "cell_type": "code",
      "metadata": {
        "id": "FD7AlaqjejYG"
      },
      "source": [
        "fx['sentiment'] = sentiments"
      ],
      "execution_count": null,
      "outputs": []
    },
    {
      "cell_type": "code",
      "metadata": {
        "id": "T9toXIT_SZfF"
      },
      "source": [
        "fx['date'] = fx['date'].str[:-6]"
      ],
      "execution_count": null,
      "outputs": []
    },
    {
      "cell_type": "code",
      "metadata": {
        "colab": {
          "base_uri": "https://localhost:8080/",
          "height": 204
        },
        "id": "ExxCLEpIS4wj",
        "outputId": "e9eb037c-bc67-4a4d-ec02-0ef00f5eae97"
      },
      "source": [
        "fx.head()"
      ],
      "execution_count": null,
      "outputs": [
        {
          "output_type": "execute_result",
          "data": {
            "text/html": [
              "<div>\n",
              "<style scoped>\n",
              "    .dataframe tbody tr th:only-of-type {\n",
              "        vertical-align: middle;\n",
              "    }\n",
              "\n",
              "    .dataframe tbody tr th {\n",
              "        vertical-align: top;\n",
              "    }\n",
              "\n",
              "    .dataframe thead th {\n",
              "        text-align: right;\n",
              "    }\n",
              "</style>\n",
              "<table border=\"1\" class=\"dataframe\">\n",
              "  <thead>\n",
              "    <tr style=\"text-align: right;\">\n",
              "      <th></th>\n",
              "      <th>txt</th>\n",
              "      <th>date</th>\n",
              "      <th>sentiment</th>\n",
              "    </tr>\n",
              "  </thead>\n",
              "  <tbody>\n",
              "    <tr>\n",
              "      <th>0</th>\n",
              "      <td>Oil Price - Nigeria: Rising Oil Prices Will Cr...</td>\n",
              "      <td>18-06-2021</td>\n",
              "      <td>2</td>\n",
              "    </tr>\n",
              "    <tr>\n",
              "      <th>1</th>\n",
              "      <td>Gold Price - Gold Price Today: Yellow metal ab...</td>\n",
              "      <td>18-06-2021</td>\n",
              "      <td>0</td>\n",
              "    </tr>\n",
              "    <tr>\n",
              "      <th>2</th>\n",
              "      <td>Brent Oil - Oil Near $72 as Investors Size Up ...</td>\n",
              "      <td>17-06-2021</td>\n",
              "      <td>2</td>\n",
              "    </tr>\n",
              "    <tr>\n",
              "      <th>3</th>\n",
              "      <td>GBPUSD - FxWirePro- GBPJPY Daily Outlook\\n\\t\\t...</td>\n",
              "      <td>17-06-2021</td>\n",
              "      <td>2</td>\n",
              "    </tr>\n",
              "    <tr>\n",
              "      <th>4</th>\n",
              "      <td>EURGBP - Sterling ticks higher on surprise inf...</td>\n",
              "      <td>16-06-2021</td>\n",
              "      <td>2</td>\n",
              "    </tr>\n",
              "  </tbody>\n",
              "</table>\n",
              "</div>"
            ],
            "text/plain": [
              "                                                 txt        date  sentiment\n",
              "0  Oil Price - Nigeria: Rising Oil Prices Will Cr...  18-06-2021          2\n",
              "1  Gold Price - Gold Price Today: Yellow metal ab...  18-06-2021          0\n",
              "2  Brent Oil - Oil Near $72 as Investors Size Up ...  17-06-2021          2\n",
              "3  GBPUSD - FxWirePro- GBPJPY Daily Outlook\\n\\t\\t...  17-06-2021          2\n",
              "4  EURGBP - Sterling ticks higher on surprise inf...  16-06-2021          2"
            ]
          },
          "metadata": {
            "tags": []
          },
          "execution_count": 122
        }
      ]
    },
    {
      "cell_type": "code",
      "metadata": {
        "id": "I_neN9seTpY1"
      },
      "source": [
        "fx_pivot = pd.pivot_table(fx, values='sentiment', index=['date'])"
      ],
      "execution_count": null,
      "outputs": []
    },
    {
      "cell_type": "code",
      "metadata": {
        "colab": {
          "base_uri": "https://localhost:8080/",
          "height": 450
        },
        "id": "z5IgtTrlT0Dv",
        "outputId": "2ac7b1f1-158f-4282-a4f9-66b21e02d058"
      },
      "source": [
        "fx_pivot"
      ],
      "execution_count": null,
      "outputs": [
        {
          "output_type": "execute_result",
          "data": {
            "text/html": [
              "<div>\n",
              "<style scoped>\n",
              "    .dataframe tbody tr th:only-of-type {\n",
              "        vertical-align: middle;\n",
              "    }\n",
              "\n",
              "    .dataframe tbody tr th {\n",
              "        vertical-align: top;\n",
              "    }\n",
              "\n",
              "    .dataframe thead th {\n",
              "        text-align: right;\n",
              "    }\n",
              "</style>\n",
              "<table border=\"1\" class=\"dataframe\">\n",
              "  <thead>\n",
              "    <tr style=\"text-align: right;\">\n",
              "      <th></th>\n",
              "      <th>sentiment</th>\n",
              "    </tr>\n",
              "    <tr>\n",
              "      <th>date</th>\n",
              "      <th></th>\n",
              "    </tr>\n",
              "  </thead>\n",
              "  <tbody>\n",
              "    <tr>\n",
              "      <th>01-01-2019</th>\n",
              "      <td>2.0</td>\n",
              "    </tr>\n",
              "    <tr>\n",
              "      <th>01-01-2020</th>\n",
              "      <td>1.5</td>\n",
              "    </tr>\n",
              "    <tr>\n",
              "      <th>01-01-2021</th>\n",
              "      <td>1.0</td>\n",
              "    </tr>\n",
              "    <tr>\n",
              "      <th>01-02-2018</th>\n",
              "      <td>2.0</td>\n",
              "    </tr>\n",
              "    <tr>\n",
              "      <th>01-02-2019</th>\n",
              "      <td>1.5</td>\n",
              "    </tr>\n",
              "    <tr>\n",
              "      <th>...</th>\n",
              "      <td>...</td>\n",
              "    </tr>\n",
              "    <tr>\n",
              "      <th>31-10-2018</th>\n",
              "      <td>1.0</td>\n",
              "    </tr>\n",
              "    <tr>\n",
              "      <th>31-10-2019</th>\n",
              "      <td>2.0</td>\n",
              "    </tr>\n",
              "    <tr>\n",
              "      <th>31-12-2018</th>\n",
              "      <td>1.0</td>\n",
              "    </tr>\n",
              "    <tr>\n",
              "      <th>31-12-2019</th>\n",
              "      <td>2.0</td>\n",
              "    </tr>\n",
              "    <tr>\n",
              "      <th>31-12-2020</th>\n",
              "      <td>0.0</td>\n",
              "    </tr>\n",
              "  </tbody>\n",
              "</table>\n",
              "<p>839 rows × 1 columns</p>\n",
              "</div>"
            ],
            "text/plain": [
              "            sentiment\n",
              "date                 \n",
              "01-01-2019        2.0\n",
              "01-01-2020        1.5\n",
              "01-01-2021        1.0\n",
              "01-02-2018        2.0\n",
              "01-02-2019        1.5\n",
              "...               ...\n",
              "31-10-2018        1.0\n",
              "31-10-2019        2.0\n",
              "31-12-2018        1.0\n",
              "31-12-2019        2.0\n",
              "31-12-2020        0.0\n",
              "\n",
              "[839 rows x 1 columns]"
            ]
          },
          "metadata": {
            "tags": []
          },
          "execution_count": 124
        }
      ]
    },
    {
      "cell_type": "code",
      "metadata": {
        "id": "QSMQaiUYVUmO"
      },
      "source": [
        "fx_pivot.index = pd.to_datetime(fx_pivot.index)"
      ],
      "execution_count": null,
      "outputs": []
    },
    {
      "cell_type": "code",
      "metadata": {
        "colab": {
          "base_uri": "https://localhost:8080/"
        },
        "id": "YP-unxEa0S3z",
        "outputId": "9d0217df-9199-40f4-b464-050ccaf98a56"
      },
      "source": [
        "fx_pivot.dtypes"
      ],
      "execution_count": null,
      "outputs": [
        {
          "output_type": "execute_result",
          "data": {
            "text/plain": [
              "sentiment    float64\n",
              "dtype: object"
            ]
          },
          "metadata": {
            "tags": []
          },
          "execution_count": 129
        }
      ]
    },
    {
      "cell_type": "code",
      "metadata": {
        "id": "Tt1vu_dD03Wg"
      },
      "source": [
        "fx_pivot.index = fx_pivot.index.strftime('%Y-%m-%d')"
      ],
      "execution_count": null,
      "outputs": []
    },
    {
      "cell_type": "code",
      "metadata": {
        "colab": {
          "base_uri": "https://localhost:8080/",
          "height": 235
        },
        "id": "q_35Tv0o1r9F",
        "outputId": "7f4f2df7-0a6d-4303-e258-7e128940a198"
      },
      "source": [
        "fx_pivot.head()"
      ],
      "execution_count": null,
      "outputs": [
        {
          "output_type": "execute_result",
          "data": {
            "text/html": [
              "<div>\n",
              "<style scoped>\n",
              "    .dataframe tbody tr th:only-of-type {\n",
              "        vertical-align: middle;\n",
              "    }\n",
              "\n",
              "    .dataframe tbody tr th {\n",
              "        vertical-align: top;\n",
              "    }\n",
              "\n",
              "    .dataframe thead th {\n",
              "        text-align: right;\n",
              "    }\n",
              "</style>\n",
              "<table border=\"1\" class=\"dataframe\">\n",
              "  <thead>\n",
              "    <tr style=\"text-align: right;\">\n",
              "      <th></th>\n",
              "      <th>sentiment</th>\n",
              "    </tr>\n",
              "    <tr>\n",
              "      <th>date</th>\n",
              "      <th></th>\n",
              "    </tr>\n",
              "  </thead>\n",
              "  <tbody>\n",
              "    <tr>\n",
              "      <th>2019-01-01</th>\n",
              "      <td>2.0</td>\n",
              "    </tr>\n",
              "    <tr>\n",
              "      <th>2020-01-01</th>\n",
              "      <td>1.5</td>\n",
              "    </tr>\n",
              "    <tr>\n",
              "      <th>2021-01-01</th>\n",
              "      <td>1.0</td>\n",
              "    </tr>\n",
              "    <tr>\n",
              "      <th>2018-01-02</th>\n",
              "      <td>2.0</td>\n",
              "    </tr>\n",
              "    <tr>\n",
              "      <th>2019-01-02</th>\n",
              "      <td>1.5</td>\n",
              "    </tr>\n",
              "  </tbody>\n",
              "</table>\n",
              "</div>"
            ],
            "text/plain": [
              "            sentiment\n",
              "date                 \n",
              "2019-01-01        2.0\n",
              "2020-01-01        1.5\n",
              "2021-01-01        1.0\n",
              "2018-01-02        2.0\n",
              "2019-01-02        1.5"
            ]
          },
          "metadata": {
            "tags": []
          },
          "execution_count": 130
        }
      ]
    },
    {
      "cell_type": "code",
      "metadata": {
        "id": "V3zVfyGA4F-q"
      },
      "source": [
        "fx_pivot = fx_pivot.sort_index()"
      ],
      "execution_count": null,
      "outputs": []
    },
    {
      "cell_type": "code",
      "metadata": {
        "colab": {
          "base_uri": "https://localhost:8080/",
          "height": 235
        },
        "id": "k39j3HRN33TW",
        "outputId": "fbac6f7a-344a-41a7-a84d-5fd1a30424a9"
      },
      "source": [
        "fx_pivot.head()"
      ],
      "execution_count": null,
      "outputs": [
        {
          "output_type": "execute_result",
          "data": {
            "text/html": [
              "<div>\n",
              "<style scoped>\n",
              "    .dataframe tbody tr th:only-of-type {\n",
              "        vertical-align: middle;\n",
              "    }\n",
              "\n",
              "    .dataframe tbody tr th {\n",
              "        vertical-align: top;\n",
              "    }\n",
              "\n",
              "    .dataframe thead th {\n",
              "        text-align: right;\n",
              "    }\n",
              "</style>\n",
              "<table border=\"1\" class=\"dataframe\">\n",
              "  <thead>\n",
              "    <tr style=\"text-align: right;\">\n",
              "      <th></th>\n",
              "      <th>sentiment</th>\n",
              "    </tr>\n",
              "    <tr>\n",
              "      <th>date</th>\n",
              "      <th></th>\n",
              "    </tr>\n",
              "  </thead>\n",
              "  <tbody>\n",
              "    <tr>\n",
              "      <th>2018-01-02</th>\n",
              "      <td>2.0</td>\n",
              "    </tr>\n",
              "    <tr>\n",
              "      <th>2018-01-03</th>\n",
              "      <td>1.0</td>\n",
              "    </tr>\n",
              "    <tr>\n",
              "      <th>2018-01-05</th>\n",
              "      <td>0.0</td>\n",
              "    </tr>\n",
              "    <tr>\n",
              "      <th>2018-01-06</th>\n",
              "      <td>2.0</td>\n",
              "    </tr>\n",
              "    <tr>\n",
              "      <th>2018-01-08</th>\n",
              "      <td>0.0</td>\n",
              "    </tr>\n",
              "  </tbody>\n",
              "</table>\n",
              "</div>"
            ],
            "text/plain": [
              "            sentiment\n",
              "date                 \n",
              "2018-01-02        2.0\n",
              "2018-01-03        1.0\n",
              "2018-01-05        0.0\n",
              "2018-01-06        2.0\n",
              "2018-01-08        0.0"
            ]
          },
          "metadata": {
            "tags": []
          },
          "execution_count": 134
        }
      ]
    },
    {
      "cell_type": "code",
      "metadata": {
        "id": "H_cZnfEC6yiF"
      },
      "source": [
        "fx_pivot = fx_pivot[~(fx_pivot.index >= '2021-06-20')]"
      ],
      "execution_count": null,
      "outputs": []
    },
    {
      "cell_type": "code",
      "metadata": {
        "id": "WamWwuRbECxf"
      },
      "source": [
        "fx_pivot.index = pd.to_datetime(fx_pivot.index)"
      ],
      "execution_count": null,
      "outputs": []
    },
    {
      "cell_type": "code",
      "metadata": {
        "id": "zhb0a0TS_Qym"
      },
      "source": [
        "fx_pivot = fx_pivot.groupby(pd.Grouper(freq='D')).mean().fillna(1)"
      ],
      "execution_count": null,
      "outputs": []
    },
    {
      "cell_type": "code",
      "metadata": {
        "id": "SMYyckunEoqa"
      },
      "source": [
        "fx_pivot.to_csv(\"sentiment_data.csv\", sep = ',', index = True)"
      ],
      "execution_count": null,
      "outputs": []
    }
  ]
}